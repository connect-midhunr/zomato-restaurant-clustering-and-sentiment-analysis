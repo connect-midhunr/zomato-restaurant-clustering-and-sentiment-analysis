{
  "nbformat": 4,
  "nbformat_minor": 0,
  "metadata": {
    "colab": {
      "provenance": [],
      "collapsed_sections": [],
      "include_colab_link": true
    },
    "kernelspec": {
      "name": "python3",
      "display_name": "Python 3"
    },
    "language_info": {
      "name": "python"
    }
  },
  "cells": [
    {
      "cell_type": "markdown",
      "metadata": {
        "id": "view-in-github",
        "colab_type": "text"
      },
      "source": [
        "<a href=\"https://colab.research.google.com/github/connect-midhunr/zomato-restaurant-clustering-and-sentiment-analysis/blob/main/Zomato_Restaurant_Clustering_and_Sentiment_Analysis.ipynb\" target=\"_parent\"><img src=\"https://colab.research.google.com/assets/colab-badge.svg\" alt=\"Open In Colab\"/></a>"
      ]
    },
    {
      "cell_type": "markdown",
      "metadata": {
        "id": "LGcl5Bv9ed6u"
      },
      "source": [
        "# **Problem Statement**"
      ]
    },
    {
      "cell_type": "markdown",
      "metadata": {
        "id": "Dtb2te3Omis9"
      },
      "source": [
        "Zomato is an Indian restaurant aggregator and food delivery start-up founded by Deepinder Goyal and Pankaj Chaddah in 2008. Zomato provides information, menus and user-reviews of restaurants, and also has food delivery options from partner restaurants in select cities.\n",
        "\n",
        "India is quite famous for its diverse multi cuisine available in a large number of restaurants and hotel resorts, which is reminiscent of unity in diversity. Restaurant business in India is always evolving. More Indians are warming up to the idea of eating restaurant food whether by dining outside or getting food delivered. The growing number of restaurants in every state of India has been a motivation to inspect the data to get some insights, interesting facts and figures about the Indian food industry in each city. So, this project focuses on analysing the Zomato restaurant data for each city in India.\n",
        "\n",
        "The Project focuses on Customers and Company, you have  to analyze the sentiments of the reviews given by the customer in the data and made some useful conclusion in the form of Visualizations. Also, cluster the zomato restaurants into different segments. The data is vizualized as it becomes easy to analyse data at instant. The Analysis also solve some of the business cases that can directly help the customers finding the Best restaurant in their locality and for the company to grow up and work on the fields they are currently lagging in.\n",
        "\n",
        "This could help in clustering the restaurants into segments. Also the data has valuable information around cuisine and costing which can be used in cost vs. benefit analysis\n",
        "\n",
        "Data could be used for sentiment analysis. Also the metadata of reviewers can be used for identifying the critics in the industry. "
      ]
    },
    {
      "cell_type": "markdown",
      "metadata": {
        "id": "AzGDqdC4fZ-b"
      },
      "source": [
        "# **Attribute Information**"
      ]
    },
    {
      "cell_type": "markdown",
      "metadata": {
        "id": "1rDsYX7KtvFb"
      },
      "source": [
        "## **Zomato Restaurant names and Metadata**\n",
        "Use this dataset for clustering part"
      ]
    },
    {
      "cell_type": "markdown",
      "metadata": {
        "id": "3uB3PQRXtz-A"
      },
      "source": [
        "1. Name : Name of Restaurants\n",
        "\n",
        "2. Links : URL Links of Restaurants\n",
        "\n",
        "3. Cost : Per person estimated Cost of dining\n",
        "\n",
        "4. Collection : Tagging of Restaurants w.r.t. Zomato categories\n",
        "\n",
        "5. Cuisines : Cuisines served by Restaurants\n",
        "\n",
        "6. Timings : Restaurant Timings"
      ]
    },
    {
      "cell_type": "markdown",
      "metadata": {
        "id": "Pq7CVNxQuT8i"
      },
      "source": [
        "## **Zomato Restaurant reviews**\n",
        "Merge this dataset with Names and Matadata and then use for sentiment analysis part"
      ]
    },
    {
      "cell_type": "markdown",
      "metadata": {
        "id": "k9E4XoEGuc0G"
      },
      "source": [
        "1. Restaurant : Name of the Restaurant\n",
        "\n",
        "2. Reviewer : Name of the Reviewer\n",
        "\n",
        "3. Review : Review Text\n",
        "\n",
        "4. Rating : Rating Provided by Reviewer\n",
        "\n",
        "5. MetaData : Reviewer Metadata - No. of Reviews and followers\n",
        "\n",
        "6. Time: Date and Time of Review\n",
        "\n",
        "7. Pictures : No. of pictures posted with review"
      ]
    },
    {
      "cell_type": "markdown",
      "metadata": {
        "id": "-bEDhyYUyIjV"
      },
      "source": [
        "# Business Task"
      ]
    },
    {
      "cell_type": "markdown",
      "metadata": {
        "id": "1ml65rpXM-Sf"
      },
      "source": [
        "Analyse the metadata and reviews of popular restaurants in Hyderabad and build machine learning models to cluster the restaurants into different segments based on cuisines and analyze the sentiments of the reviews given by the customers. "
      ]
    },
    {
      "cell_type": "markdown",
      "source": [
        "# Data Summary"
      ],
      "metadata": {
        "id": "p6prFdtR2CMx"
      }
    },
    {
      "cell_type": "code",
      "source": [
        "# mounting drive\n",
        "\n",
        "from google.colab import drive\n",
        "drive.mount('/content/drive')"
      ],
      "metadata": {
        "colab": {
          "base_uri": "https://localhost:8080/"
        },
        "id": "bwJTGl3q2ONg",
        "outputId": "77c8f118-a300-480b-efe6-02da03ce1fce"
      },
      "execution_count": 161,
      "outputs": [
        {
          "output_type": "stream",
          "name": "stdout",
          "text": [
            "Drive already mounted at /content/drive; to attempt to forcibly remount, call drive.mount(\"/content/drive\", force_remount=True).\n"
          ]
        }
      ]
    },
    {
      "cell_type": "markdown",
      "source": [
        "## Restaurant Metadata"
      ],
      "metadata": {
        "id": "RKmY4brZ3Dnf"
      }
    },
    {
      "cell_type": "code",
      "source": [
        "# reading data and storing in dataframe\n",
        "import pandas as pd\n",
        "\n",
        "meta_df = pd.read_csv('/content/drive/MyDrive/Colab Notebooks/AlmaBetter/Capstone Projects/Unsupervised Machine Learning/Zomato Restaurant Clustering and Sentiment Analysis - Midhun R/Data & Resources/Zomato Restaurant names and Metadata.csv')"
      ],
      "metadata": {
        "id": "ssbNdR3k2Z1H"
      },
      "execution_count": 162,
      "outputs": []
    },
    {
      "cell_type": "code",
      "source": [
        "# exploring the head of the dataframe\n",
        "meta_df.head()"
      ],
      "metadata": {
        "colab": {
          "base_uri": "https://localhost:8080/",
          "height": 0
        },
        "id": "MHk3YYHB4Smg",
        "outputId": "dc5e287b-a709-41f7-e2dd-9fb1d9a79f92"
      },
      "execution_count": 163,
      "outputs": [
        {
          "output_type": "execute_result",
          "data": {
            "text/plain": [
              "                             Name  \\\n",
              "0                 Beyond Flavours   \n",
              "1                        Paradise   \n",
              "2                        Flechazo   \n",
              "3  Shah Ghouse Hotel & Restaurant   \n",
              "4      Over The Moon Brew Company   \n",
              "\n",
              "                                               Links   Cost  \\\n",
              "0  https://www.zomato.com/hyderabad/beyond-flavou...    800   \n",
              "1  https://www.zomato.com/hyderabad/paradise-gach...    800   \n",
              "2  https://www.zomato.com/hyderabad/flechazo-gach...  1,300   \n",
              "3  https://www.zomato.com/hyderabad/shah-ghouse-h...    800   \n",
              "4  https://www.zomato.com/hyderabad/over-the-moon...  1,200   \n",
              "\n",
              "                                         Collections  \\\n",
              "0  Food Hygiene Rated Restaurants in Hyderabad, C...   \n",
              "1                                Hyderabad's Hottest   \n",
              "2                 Great Buffets, Hyderabad's Hottest   \n",
              "3                             Late Night Restaurants   \n",
              "4  Best Bars & Pubs, Food Hygiene Rated Restauran...   \n",
              "\n",
              "                                            Cuisines  \\\n",
              "0  Chinese, Continental, Kebab, European, South I...   \n",
              "1                     Biryani, North Indian, Chinese   \n",
              "2       Asian, Mediterranean, North Indian, Desserts   \n",
              "3  Biryani, North Indian, Chinese, Seafood, Bever...   \n",
              "4  Asian, Continental, North Indian, Chinese, Med...   \n",
              "\n",
              "                                             Timings  \n",
              "0      12noon to 3:30pm, 6:30pm to 11:30pm (Mon-Sun)  \n",
              "1                                     11 AM to 11 PM  \n",
              "2              11:30 AM to 4:30 PM, 6:30 PM to 11 PM  \n",
              "3                                    12 Noon to 2 AM  \n",
              "4  12noon to 11pm (Mon, Tue, Wed, Thu, Sun), 12no...  "
            ],
            "text/html": [
              "\n",
              "  <div id=\"df-f3581d42-66b6-48c8-a1bd-2fe03d669b76\">\n",
              "    <div class=\"colab-df-container\">\n",
              "      <div>\n",
              "<style scoped>\n",
              "    .dataframe tbody tr th:only-of-type {\n",
              "        vertical-align: middle;\n",
              "    }\n",
              "\n",
              "    .dataframe tbody tr th {\n",
              "        vertical-align: top;\n",
              "    }\n",
              "\n",
              "    .dataframe thead th {\n",
              "        text-align: right;\n",
              "    }\n",
              "</style>\n",
              "<table border=\"1\" class=\"dataframe\">\n",
              "  <thead>\n",
              "    <tr style=\"text-align: right;\">\n",
              "      <th></th>\n",
              "      <th>Name</th>\n",
              "      <th>Links</th>\n",
              "      <th>Cost</th>\n",
              "      <th>Collections</th>\n",
              "      <th>Cuisines</th>\n",
              "      <th>Timings</th>\n",
              "    </tr>\n",
              "  </thead>\n",
              "  <tbody>\n",
              "    <tr>\n",
              "      <th>0</th>\n",
              "      <td>Beyond Flavours</td>\n",
              "      <td>https://www.zomato.com/hyderabad/beyond-flavou...</td>\n",
              "      <td>800</td>\n",
              "      <td>Food Hygiene Rated Restaurants in Hyderabad, C...</td>\n",
              "      <td>Chinese, Continental, Kebab, European, South I...</td>\n",
              "      <td>12noon to 3:30pm, 6:30pm to 11:30pm (Mon-Sun)</td>\n",
              "    </tr>\n",
              "    <tr>\n",
              "      <th>1</th>\n",
              "      <td>Paradise</td>\n",
              "      <td>https://www.zomato.com/hyderabad/paradise-gach...</td>\n",
              "      <td>800</td>\n",
              "      <td>Hyderabad's Hottest</td>\n",
              "      <td>Biryani, North Indian, Chinese</td>\n",
              "      <td>11 AM to 11 PM</td>\n",
              "    </tr>\n",
              "    <tr>\n",
              "      <th>2</th>\n",
              "      <td>Flechazo</td>\n",
              "      <td>https://www.zomato.com/hyderabad/flechazo-gach...</td>\n",
              "      <td>1,300</td>\n",
              "      <td>Great Buffets, Hyderabad's Hottest</td>\n",
              "      <td>Asian, Mediterranean, North Indian, Desserts</td>\n",
              "      <td>11:30 AM to 4:30 PM, 6:30 PM to 11 PM</td>\n",
              "    </tr>\n",
              "    <tr>\n",
              "      <th>3</th>\n",
              "      <td>Shah Ghouse Hotel &amp; Restaurant</td>\n",
              "      <td>https://www.zomato.com/hyderabad/shah-ghouse-h...</td>\n",
              "      <td>800</td>\n",
              "      <td>Late Night Restaurants</td>\n",
              "      <td>Biryani, North Indian, Chinese, Seafood, Bever...</td>\n",
              "      <td>12 Noon to 2 AM</td>\n",
              "    </tr>\n",
              "    <tr>\n",
              "      <th>4</th>\n",
              "      <td>Over The Moon Brew Company</td>\n",
              "      <td>https://www.zomato.com/hyderabad/over-the-moon...</td>\n",
              "      <td>1,200</td>\n",
              "      <td>Best Bars &amp; Pubs, Food Hygiene Rated Restauran...</td>\n",
              "      <td>Asian, Continental, North Indian, Chinese, Med...</td>\n",
              "      <td>12noon to 11pm (Mon, Tue, Wed, Thu, Sun), 12no...</td>\n",
              "    </tr>\n",
              "  </tbody>\n",
              "</table>\n",
              "</div>\n",
              "      <button class=\"colab-df-convert\" onclick=\"convertToInteractive('df-f3581d42-66b6-48c8-a1bd-2fe03d669b76')\"\n",
              "              title=\"Convert this dataframe to an interactive table.\"\n",
              "              style=\"display:none;\">\n",
              "        \n",
              "  <svg xmlns=\"http://www.w3.org/2000/svg\" height=\"24px\"viewBox=\"0 0 24 24\"\n",
              "       width=\"24px\">\n",
              "    <path d=\"M0 0h24v24H0V0z\" fill=\"none\"/>\n",
              "    <path d=\"M18.56 5.44l.94 2.06.94-2.06 2.06-.94-2.06-.94-.94-2.06-.94 2.06-2.06.94zm-11 1L8.5 8.5l.94-2.06 2.06-.94-2.06-.94L8.5 2.5l-.94 2.06-2.06.94zm10 10l.94 2.06.94-2.06 2.06-.94-2.06-.94-.94-2.06-.94 2.06-2.06.94z\"/><path d=\"M17.41 7.96l-1.37-1.37c-.4-.4-.92-.59-1.43-.59-.52 0-1.04.2-1.43.59L10.3 9.45l-7.72 7.72c-.78.78-.78 2.05 0 2.83L4 21.41c.39.39.9.59 1.41.59.51 0 1.02-.2 1.41-.59l7.78-7.78 2.81-2.81c.8-.78.8-2.07 0-2.86zM5.41 20L4 18.59l7.72-7.72 1.47 1.35L5.41 20z\"/>\n",
              "  </svg>\n",
              "      </button>\n",
              "      \n",
              "  <style>\n",
              "    .colab-df-container {\n",
              "      display:flex;\n",
              "      flex-wrap:wrap;\n",
              "      gap: 12px;\n",
              "    }\n",
              "\n",
              "    .colab-df-convert {\n",
              "      background-color: #E8F0FE;\n",
              "      border: none;\n",
              "      border-radius: 50%;\n",
              "      cursor: pointer;\n",
              "      display: none;\n",
              "      fill: #1967D2;\n",
              "      height: 32px;\n",
              "      padding: 0 0 0 0;\n",
              "      width: 32px;\n",
              "    }\n",
              "\n",
              "    .colab-df-convert:hover {\n",
              "      background-color: #E2EBFA;\n",
              "      box-shadow: 0px 1px 2px rgba(60, 64, 67, 0.3), 0px 1px 3px 1px rgba(60, 64, 67, 0.15);\n",
              "      fill: #174EA6;\n",
              "    }\n",
              "\n",
              "    [theme=dark] .colab-df-convert {\n",
              "      background-color: #3B4455;\n",
              "      fill: #D2E3FC;\n",
              "    }\n",
              "\n",
              "    [theme=dark] .colab-df-convert:hover {\n",
              "      background-color: #434B5C;\n",
              "      box-shadow: 0px 1px 3px 1px rgba(0, 0, 0, 0.15);\n",
              "      filter: drop-shadow(0px 1px 2px rgba(0, 0, 0, 0.3));\n",
              "      fill: #FFFFFF;\n",
              "    }\n",
              "  </style>\n",
              "\n",
              "      <script>\n",
              "        const buttonEl =\n",
              "          document.querySelector('#df-f3581d42-66b6-48c8-a1bd-2fe03d669b76 button.colab-df-convert');\n",
              "        buttonEl.style.display =\n",
              "          google.colab.kernel.accessAllowed ? 'block' : 'none';\n",
              "\n",
              "        async function convertToInteractive(key) {\n",
              "          const element = document.querySelector('#df-f3581d42-66b6-48c8-a1bd-2fe03d669b76');\n",
              "          const dataTable =\n",
              "            await google.colab.kernel.invokeFunction('convertToInteractive',\n",
              "                                                     [key], {});\n",
              "          if (!dataTable) return;\n",
              "\n",
              "          const docLinkHtml = 'Like what you see? Visit the ' +\n",
              "            '<a target=\"_blank\" href=https://colab.research.google.com/notebooks/data_table.ipynb>data table notebook</a>'\n",
              "            + ' to learn more about interactive tables.';\n",
              "          element.innerHTML = '';\n",
              "          dataTable['output_type'] = 'display_data';\n",
              "          await google.colab.output.renderOutput(dataTable, element);\n",
              "          const docLink = document.createElement('div');\n",
              "          docLink.innerHTML = docLinkHtml;\n",
              "          element.appendChild(docLink);\n",
              "        }\n",
              "      </script>\n",
              "    </div>\n",
              "  </div>\n",
              "  "
            ]
          },
          "metadata": {},
          "execution_count": 163
        }
      ]
    },
    {
      "cell_type": "code",
      "source": [
        "# brief summary of the dataframe\n",
        "meta_df.describe()"
      ],
      "metadata": {
        "colab": {
          "base_uri": "https://localhost:8080/",
          "height": 0
        },
        "id": "oVzkufSY4gV9",
        "outputId": "a7c3e48d-6188-4523-8c2a-02f400e886d2"
      },
      "execution_count": 164,
      "outputs": [
        {
          "output_type": "execute_result",
          "data": {
            "text/plain": [
              "                   Name                                              Links  \\\n",
              "count               105                                                105   \n",
              "unique              105                                                105   \n",
              "top     Beyond Flavours  https://www.zomato.com/hyderabad/beyond-flavou...   \n",
              "freq                  1                                                  1   \n",
              "\n",
              "       Cost                                  Collections  \\\n",
              "count   105                                           51   \n",
              "unique   29                                           42   \n",
              "top     500  Food Hygiene Rated Restaurants in Hyderabad   \n",
              "freq     13                                            4   \n",
              "\n",
              "                     Cuisines         Timings  \n",
              "count                     105             104  \n",
              "unique                     92              77  \n",
              "top     North Indian, Chinese  11 AM to 11 PM  \n",
              "freq                        4               6  "
            ],
            "text/html": [
              "\n",
              "  <div id=\"df-04f457e1-2a86-403d-8e76-3ebe7e892b44\">\n",
              "    <div class=\"colab-df-container\">\n",
              "      <div>\n",
              "<style scoped>\n",
              "    .dataframe tbody tr th:only-of-type {\n",
              "        vertical-align: middle;\n",
              "    }\n",
              "\n",
              "    .dataframe tbody tr th {\n",
              "        vertical-align: top;\n",
              "    }\n",
              "\n",
              "    .dataframe thead th {\n",
              "        text-align: right;\n",
              "    }\n",
              "</style>\n",
              "<table border=\"1\" class=\"dataframe\">\n",
              "  <thead>\n",
              "    <tr style=\"text-align: right;\">\n",
              "      <th></th>\n",
              "      <th>Name</th>\n",
              "      <th>Links</th>\n",
              "      <th>Cost</th>\n",
              "      <th>Collections</th>\n",
              "      <th>Cuisines</th>\n",
              "      <th>Timings</th>\n",
              "    </tr>\n",
              "  </thead>\n",
              "  <tbody>\n",
              "    <tr>\n",
              "      <th>count</th>\n",
              "      <td>105</td>\n",
              "      <td>105</td>\n",
              "      <td>105</td>\n",
              "      <td>51</td>\n",
              "      <td>105</td>\n",
              "      <td>104</td>\n",
              "    </tr>\n",
              "    <tr>\n",
              "      <th>unique</th>\n",
              "      <td>105</td>\n",
              "      <td>105</td>\n",
              "      <td>29</td>\n",
              "      <td>42</td>\n",
              "      <td>92</td>\n",
              "      <td>77</td>\n",
              "    </tr>\n",
              "    <tr>\n",
              "      <th>top</th>\n",
              "      <td>Beyond Flavours</td>\n",
              "      <td>https://www.zomato.com/hyderabad/beyond-flavou...</td>\n",
              "      <td>500</td>\n",
              "      <td>Food Hygiene Rated Restaurants in Hyderabad</td>\n",
              "      <td>North Indian, Chinese</td>\n",
              "      <td>11 AM to 11 PM</td>\n",
              "    </tr>\n",
              "    <tr>\n",
              "      <th>freq</th>\n",
              "      <td>1</td>\n",
              "      <td>1</td>\n",
              "      <td>13</td>\n",
              "      <td>4</td>\n",
              "      <td>4</td>\n",
              "      <td>6</td>\n",
              "    </tr>\n",
              "  </tbody>\n",
              "</table>\n",
              "</div>\n",
              "      <button class=\"colab-df-convert\" onclick=\"convertToInteractive('df-04f457e1-2a86-403d-8e76-3ebe7e892b44')\"\n",
              "              title=\"Convert this dataframe to an interactive table.\"\n",
              "              style=\"display:none;\">\n",
              "        \n",
              "  <svg xmlns=\"http://www.w3.org/2000/svg\" height=\"24px\"viewBox=\"0 0 24 24\"\n",
              "       width=\"24px\">\n",
              "    <path d=\"M0 0h24v24H0V0z\" fill=\"none\"/>\n",
              "    <path d=\"M18.56 5.44l.94 2.06.94-2.06 2.06-.94-2.06-.94-.94-2.06-.94 2.06-2.06.94zm-11 1L8.5 8.5l.94-2.06 2.06-.94-2.06-.94L8.5 2.5l-.94 2.06-2.06.94zm10 10l.94 2.06.94-2.06 2.06-.94-2.06-.94-.94-2.06-.94 2.06-2.06.94z\"/><path d=\"M17.41 7.96l-1.37-1.37c-.4-.4-.92-.59-1.43-.59-.52 0-1.04.2-1.43.59L10.3 9.45l-7.72 7.72c-.78.78-.78 2.05 0 2.83L4 21.41c.39.39.9.59 1.41.59.51 0 1.02-.2 1.41-.59l7.78-7.78 2.81-2.81c.8-.78.8-2.07 0-2.86zM5.41 20L4 18.59l7.72-7.72 1.47 1.35L5.41 20z\"/>\n",
              "  </svg>\n",
              "      </button>\n",
              "      \n",
              "  <style>\n",
              "    .colab-df-container {\n",
              "      display:flex;\n",
              "      flex-wrap:wrap;\n",
              "      gap: 12px;\n",
              "    }\n",
              "\n",
              "    .colab-df-convert {\n",
              "      background-color: #E8F0FE;\n",
              "      border: none;\n",
              "      border-radius: 50%;\n",
              "      cursor: pointer;\n",
              "      display: none;\n",
              "      fill: #1967D2;\n",
              "      height: 32px;\n",
              "      padding: 0 0 0 0;\n",
              "      width: 32px;\n",
              "    }\n",
              "\n",
              "    .colab-df-convert:hover {\n",
              "      background-color: #E2EBFA;\n",
              "      box-shadow: 0px 1px 2px rgba(60, 64, 67, 0.3), 0px 1px 3px 1px rgba(60, 64, 67, 0.15);\n",
              "      fill: #174EA6;\n",
              "    }\n",
              "\n",
              "    [theme=dark] .colab-df-convert {\n",
              "      background-color: #3B4455;\n",
              "      fill: #D2E3FC;\n",
              "    }\n",
              "\n",
              "    [theme=dark] .colab-df-convert:hover {\n",
              "      background-color: #434B5C;\n",
              "      box-shadow: 0px 1px 3px 1px rgba(0, 0, 0, 0.15);\n",
              "      filter: drop-shadow(0px 1px 2px rgba(0, 0, 0, 0.3));\n",
              "      fill: #FFFFFF;\n",
              "    }\n",
              "  </style>\n",
              "\n",
              "      <script>\n",
              "        const buttonEl =\n",
              "          document.querySelector('#df-04f457e1-2a86-403d-8e76-3ebe7e892b44 button.colab-df-convert');\n",
              "        buttonEl.style.display =\n",
              "          google.colab.kernel.accessAllowed ? 'block' : 'none';\n",
              "\n",
              "        async function convertToInteractive(key) {\n",
              "          const element = document.querySelector('#df-04f457e1-2a86-403d-8e76-3ebe7e892b44');\n",
              "          const dataTable =\n",
              "            await google.colab.kernel.invokeFunction('convertToInteractive',\n",
              "                                                     [key], {});\n",
              "          if (!dataTable) return;\n",
              "\n",
              "          const docLinkHtml = 'Like what you see? Visit the ' +\n",
              "            '<a target=\"_blank\" href=https://colab.research.google.com/notebooks/data_table.ipynb>data table notebook</a>'\n",
              "            + ' to learn more about interactive tables.';\n",
              "          element.innerHTML = '';\n",
              "          dataTable['output_type'] = 'display_data';\n",
              "          await google.colab.output.renderOutput(dataTable, element);\n",
              "          const docLink = document.createElement('div');\n",
              "          docLink.innerHTML = docLinkHtml;\n",
              "          element.appendChild(docLink);\n",
              "        }\n",
              "      </script>\n",
              "    </div>\n",
              "  </div>\n",
              "  "
            ]
          },
          "metadata": {},
          "execution_count": 164
        }
      ]
    },
    {
      "cell_type": "markdown",
      "source": [
        "All features are categorical."
      ],
      "metadata": {
        "id": "E7tjdn4x-5EV"
      }
    },
    {
      "cell_type": "code",
      "source": [
        "# function to find the number of duplicate rows\n",
        "def duplicate_rows_count(dataframe):\n",
        "  \"\"\"\n",
        "  Returns the number of duplicate rows in the dataframe.\n",
        "  \"\"\"\n",
        "  return dataframe[dataframe.duplicated()].shape[0]"
      ],
      "metadata": {
        "id": "If3-YcX3l0Vc"
      },
      "execution_count": 165,
      "outputs": []
    },
    {
      "cell_type": "code",
      "source": [
        "# total number of rows in the dataframe\n",
        "print(f\"Total number of rows: {meta_df.shape[0]}\")\n",
        "\n",
        "# number of duplicate rows\n",
        "print(f\"Number of duplicate rows: {duplicate_rows_count(meta_df)}\")"
      ],
      "metadata": {
        "colab": {
          "base_uri": "https://localhost:8080/"
        },
        "id": "Q3nWMwJr5I3w",
        "outputId": "91b5282e-d7b4-441c-e17a-e791ca895268"
      },
      "execution_count": 166,
      "outputs": [
        {
          "output_type": "stream",
          "name": "stdout",
          "text": [
            "Total number of rows: 105\n",
            "Number of duplicate rows: 0\n"
          ]
        }
      ]
    },
    {
      "cell_type": "markdown",
      "metadata": {
        "id": "aqvMSuR_xXFW"
      },
      "source": [
        "*   The dataframe contains 105 rows and has zero duplicate rows."
      ]
    },
    {
      "cell_type": "code",
      "source": [
        "# information of features\n",
        "meta_df.info()"
      ],
      "metadata": {
        "colab": {
          "base_uri": "https://localhost:8080/"
        },
        "id": "oMQ4c_Ca8vat",
        "outputId": "652d28d7-976e-492d-bcb1-6d76ca62bc36"
      },
      "execution_count": 167,
      "outputs": [
        {
          "output_type": "stream",
          "name": "stdout",
          "text": [
            "<class 'pandas.core.frame.DataFrame'>\n",
            "RangeIndex: 105 entries, 0 to 104\n",
            "Data columns (total 6 columns):\n",
            " #   Column       Non-Null Count  Dtype \n",
            "---  ------       --------------  ----- \n",
            " 0   Name         105 non-null    object\n",
            " 1   Links        105 non-null    object\n",
            " 2   Cost         105 non-null    object\n",
            " 3   Collections  51 non-null     object\n",
            " 4   Cuisines     105 non-null    object\n",
            " 5   Timings      104 non-null    object\n",
            "dtypes: object(6)\n",
            "memory usage: 5.0+ KB\n"
          ]
        }
      ]
    },
    {
      "cell_type": "markdown",
      "metadata": {
        "id": "AUuz7ETyt3jE"
      },
      "source": [
        "*   The dataframe contains 6 columns.\n",
        "*   Two columns have missing values.\n",
        "*   Two columns requires conversion of datatype."
      ]
    },
    {
      "cell_type": "markdown",
      "source": [
        "## Restaurant Review Data"
      ],
      "metadata": {
        "id": "pyr1t-vx_HZu"
      }
    },
    {
      "cell_type": "code",
      "source": [
        "# reading data and storing in dataframe\n",
        "review_df = pd.read_csv('/content/drive/MyDrive/Colab Notebooks/AlmaBetter/Capstone Projects/Unsupervised Machine Learning/Zomato Restaurant Clustering and Sentiment Analysis - Midhun R/Data & Resources/Zomato Restaurant reviews.csv')"
      ],
      "metadata": {
        "id": "wk9W0uWO_HZu"
      },
      "execution_count": 168,
      "outputs": []
    },
    {
      "cell_type": "code",
      "source": [
        "# exploring the head of the dataframe\n",
        "review_df.head()"
      ],
      "metadata": {
        "colab": {
          "base_uri": "https://localhost:8080/",
          "height": 0
        },
        "outputId": "a678bd4c-0d97-4e28-e8d7-b1e3f22bed77",
        "id": "C6srJF6U_HZ1"
      },
      "execution_count": 169,
      "outputs": [
        {
          "output_type": "execute_result",
          "data": {
            "text/plain": [
              "        Restaurant              Reviewer  \\\n",
              "0  Beyond Flavours     Rusha Chakraborty   \n",
              "1  Beyond Flavours  Anusha Tirumalaneedi   \n",
              "2  Beyond Flavours       Ashok Shekhawat   \n",
              "3  Beyond Flavours        Swapnil Sarkar   \n",
              "4  Beyond Flavours                Dileep   \n",
              "\n",
              "                                              Review Rating  \\\n",
              "0  The ambience was good, food was quite good . h...      5   \n",
              "1  Ambience is too good for a pleasant evening. S...      5   \n",
              "2  A must try.. great food great ambience. Thnx f...      5   \n",
              "3  Soumen das and Arun was a great guy. Only beca...      5   \n",
              "4  Food is good.we ordered Kodi drumsticks and ba...      5   \n",
              "\n",
              "                  Metadata             Time  Pictures  \n",
              "0   1 Review , 2 Followers  5/25/2019 15:54         0  \n",
              "1  3 Reviews , 2 Followers  5/25/2019 14:20         0  \n",
              "2  2 Reviews , 3 Followers  5/24/2019 22:54         0  \n",
              "3    1 Review , 1 Follower  5/24/2019 22:11         0  \n",
              "4  3 Reviews , 2 Followers  5/24/2019 21:37         0  "
            ],
            "text/html": [
              "\n",
              "  <div id=\"df-6c56c0c6-b8ed-4d0d-91ee-d594cc7caf0f\">\n",
              "    <div class=\"colab-df-container\">\n",
              "      <div>\n",
              "<style scoped>\n",
              "    .dataframe tbody tr th:only-of-type {\n",
              "        vertical-align: middle;\n",
              "    }\n",
              "\n",
              "    .dataframe tbody tr th {\n",
              "        vertical-align: top;\n",
              "    }\n",
              "\n",
              "    .dataframe thead th {\n",
              "        text-align: right;\n",
              "    }\n",
              "</style>\n",
              "<table border=\"1\" class=\"dataframe\">\n",
              "  <thead>\n",
              "    <tr style=\"text-align: right;\">\n",
              "      <th></th>\n",
              "      <th>Restaurant</th>\n",
              "      <th>Reviewer</th>\n",
              "      <th>Review</th>\n",
              "      <th>Rating</th>\n",
              "      <th>Metadata</th>\n",
              "      <th>Time</th>\n",
              "      <th>Pictures</th>\n",
              "    </tr>\n",
              "  </thead>\n",
              "  <tbody>\n",
              "    <tr>\n",
              "      <th>0</th>\n",
              "      <td>Beyond Flavours</td>\n",
              "      <td>Rusha Chakraborty</td>\n",
              "      <td>The ambience was good, food was quite good . h...</td>\n",
              "      <td>5</td>\n",
              "      <td>1 Review , 2 Followers</td>\n",
              "      <td>5/25/2019 15:54</td>\n",
              "      <td>0</td>\n",
              "    </tr>\n",
              "    <tr>\n",
              "      <th>1</th>\n",
              "      <td>Beyond Flavours</td>\n",
              "      <td>Anusha Tirumalaneedi</td>\n",
              "      <td>Ambience is too good for a pleasant evening. S...</td>\n",
              "      <td>5</td>\n",
              "      <td>3 Reviews , 2 Followers</td>\n",
              "      <td>5/25/2019 14:20</td>\n",
              "      <td>0</td>\n",
              "    </tr>\n",
              "    <tr>\n",
              "      <th>2</th>\n",
              "      <td>Beyond Flavours</td>\n",
              "      <td>Ashok Shekhawat</td>\n",
              "      <td>A must try.. great food great ambience. Thnx f...</td>\n",
              "      <td>5</td>\n",
              "      <td>2 Reviews , 3 Followers</td>\n",
              "      <td>5/24/2019 22:54</td>\n",
              "      <td>0</td>\n",
              "    </tr>\n",
              "    <tr>\n",
              "      <th>3</th>\n",
              "      <td>Beyond Flavours</td>\n",
              "      <td>Swapnil Sarkar</td>\n",
              "      <td>Soumen das and Arun was a great guy. Only beca...</td>\n",
              "      <td>5</td>\n",
              "      <td>1 Review , 1 Follower</td>\n",
              "      <td>5/24/2019 22:11</td>\n",
              "      <td>0</td>\n",
              "    </tr>\n",
              "    <tr>\n",
              "      <th>4</th>\n",
              "      <td>Beyond Flavours</td>\n",
              "      <td>Dileep</td>\n",
              "      <td>Food is good.we ordered Kodi drumsticks and ba...</td>\n",
              "      <td>5</td>\n",
              "      <td>3 Reviews , 2 Followers</td>\n",
              "      <td>5/24/2019 21:37</td>\n",
              "      <td>0</td>\n",
              "    </tr>\n",
              "  </tbody>\n",
              "</table>\n",
              "</div>\n",
              "      <button class=\"colab-df-convert\" onclick=\"convertToInteractive('df-6c56c0c6-b8ed-4d0d-91ee-d594cc7caf0f')\"\n",
              "              title=\"Convert this dataframe to an interactive table.\"\n",
              "              style=\"display:none;\">\n",
              "        \n",
              "  <svg xmlns=\"http://www.w3.org/2000/svg\" height=\"24px\"viewBox=\"0 0 24 24\"\n",
              "       width=\"24px\">\n",
              "    <path d=\"M0 0h24v24H0V0z\" fill=\"none\"/>\n",
              "    <path d=\"M18.56 5.44l.94 2.06.94-2.06 2.06-.94-2.06-.94-.94-2.06-.94 2.06-2.06.94zm-11 1L8.5 8.5l.94-2.06 2.06-.94-2.06-.94L8.5 2.5l-.94 2.06-2.06.94zm10 10l.94 2.06.94-2.06 2.06-.94-2.06-.94-.94-2.06-.94 2.06-2.06.94z\"/><path d=\"M17.41 7.96l-1.37-1.37c-.4-.4-.92-.59-1.43-.59-.52 0-1.04.2-1.43.59L10.3 9.45l-7.72 7.72c-.78.78-.78 2.05 0 2.83L4 21.41c.39.39.9.59 1.41.59.51 0 1.02-.2 1.41-.59l7.78-7.78 2.81-2.81c.8-.78.8-2.07 0-2.86zM5.41 20L4 18.59l7.72-7.72 1.47 1.35L5.41 20z\"/>\n",
              "  </svg>\n",
              "      </button>\n",
              "      \n",
              "  <style>\n",
              "    .colab-df-container {\n",
              "      display:flex;\n",
              "      flex-wrap:wrap;\n",
              "      gap: 12px;\n",
              "    }\n",
              "\n",
              "    .colab-df-convert {\n",
              "      background-color: #E8F0FE;\n",
              "      border: none;\n",
              "      border-radius: 50%;\n",
              "      cursor: pointer;\n",
              "      display: none;\n",
              "      fill: #1967D2;\n",
              "      height: 32px;\n",
              "      padding: 0 0 0 0;\n",
              "      width: 32px;\n",
              "    }\n",
              "\n",
              "    .colab-df-convert:hover {\n",
              "      background-color: #E2EBFA;\n",
              "      box-shadow: 0px 1px 2px rgba(60, 64, 67, 0.3), 0px 1px 3px 1px rgba(60, 64, 67, 0.15);\n",
              "      fill: #174EA6;\n",
              "    }\n",
              "\n",
              "    [theme=dark] .colab-df-convert {\n",
              "      background-color: #3B4455;\n",
              "      fill: #D2E3FC;\n",
              "    }\n",
              "\n",
              "    [theme=dark] .colab-df-convert:hover {\n",
              "      background-color: #434B5C;\n",
              "      box-shadow: 0px 1px 3px 1px rgba(0, 0, 0, 0.15);\n",
              "      filter: drop-shadow(0px 1px 2px rgba(0, 0, 0, 0.3));\n",
              "      fill: #FFFFFF;\n",
              "    }\n",
              "  </style>\n",
              "\n",
              "      <script>\n",
              "        const buttonEl =\n",
              "          document.querySelector('#df-6c56c0c6-b8ed-4d0d-91ee-d594cc7caf0f button.colab-df-convert');\n",
              "        buttonEl.style.display =\n",
              "          google.colab.kernel.accessAllowed ? 'block' : 'none';\n",
              "\n",
              "        async function convertToInteractive(key) {\n",
              "          const element = document.querySelector('#df-6c56c0c6-b8ed-4d0d-91ee-d594cc7caf0f');\n",
              "          const dataTable =\n",
              "            await google.colab.kernel.invokeFunction('convertToInteractive',\n",
              "                                                     [key], {});\n",
              "          if (!dataTable) return;\n",
              "\n",
              "          const docLinkHtml = 'Like what you see? Visit the ' +\n",
              "            '<a target=\"_blank\" href=https://colab.research.google.com/notebooks/data_table.ipynb>data table notebook</a>'\n",
              "            + ' to learn more about interactive tables.';\n",
              "          element.innerHTML = '';\n",
              "          dataTable['output_type'] = 'display_data';\n",
              "          await google.colab.output.renderOutput(dataTable, element);\n",
              "          const docLink = document.createElement('div');\n",
              "          docLink.innerHTML = docLinkHtml;\n",
              "          element.appendChild(docLink);\n",
              "        }\n",
              "      </script>\n",
              "    </div>\n",
              "  </div>\n",
              "  "
            ]
          },
          "metadata": {},
          "execution_count": 169
        }
      ]
    },
    {
      "cell_type": "code",
      "source": [
        "# brief summary of the dataframe\n",
        "review_df.describe()"
      ],
      "metadata": {
        "colab": {
          "base_uri": "https://localhost:8080/",
          "height": 0
        },
        "outputId": "11f7f9e3-ccba-4ce3-db34-02ce4423d397",
        "id": "A9Fb3Wv6_HZ2"
      },
      "execution_count": 170,
      "outputs": [
        {
          "output_type": "execute_result",
          "data": {
            "text/plain": [
              "           Pictures\n",
              "count  10000.000000\n",
              "mean       0.748600\n",
              "std        2.570381\n",
              "min        0.000000\n",
              "25%        0.000000\n",
              "50%        0.000000\n",
              "75%        0.000000\n",
              "max       64.000000"
            ],
            "text/html": [
              "\n",
              "  <div id=\"df-e16c7443-42a5-4b35-a6fb-b516f2b12019\">\n",
              "    <div class=\"colab-df-container\">\n",
              "      <div>\n",
              "<style scoped>\n",
              "    .dataframe tbody tr th:only-of-type {\n",
              "        vertical-align: middle;\n",
              "    }\n",
              "\n",
              "    .dataframe tbody tr th {\n",
              "        vertical-align: top;\n",
              "    }\n",
              "\n",
              "    .dataframe thead th {\n",
              "        text-align: right;\n",
              "    }\n",
              "</style>\n",
              "<table border=\"1\" class=\"dataframe\">\n",
              "  <thead>\n",
              "    <tr style=\"text-align: right;\">\n",
              "      <th></th>\n",
              "      <th>Pictures</th>\n",
              "    </tr>\n",
              "  </thead>\n",
              "  <tbody>\n",
              "    <tr>\n",
              "      <th>count</th>\n",
              "      <td>10000.000000</td>\n",
              "    </tr>\n",
              "    <tr>\n",
              "      <th>mean</th>\n",
              "      <td>0.748600</td>\n",
              "    </tr>\n",
              "    <tr>\n",
              "      <th>std</th>\n",
              "      <td>2.570381</td>\n",
              "    </tr>\n",
              "    <tr>\n",
              "      <th>min</th>\n",
              "      <td>0.000000</td>\n",
              "    </tr>\n",
              "    <tr>\n",
              "      <th>25%</th>\n",
              "      <td>0.000000</td>\n",
              "    </tr>\n",
              "    <tr>\n",
              "      <th>50%</th>\n",
              "      <td>0.000000</td>\n",
              "    </tr>\n",
              "    <tr>\n",
              "      <th>75%</th>\n",
              "      <td>0.000000</td>\n",
              "    </tr>\n",
              "    <tr>\n",
              "      <th>max</th>\n",
              "      <td>64.000000</td>\n",
              "    </tr>\n",
              "  </tbody>\n",
              "</table>\n",
              "</div>\n",
              "      <button class=\"colab-df-convert\" onclick=\"convertToInteractive('df-e16c7443-42a5-4b35-a6fb-b516f2b12019')\"\n",
              "              title=\"Convert this dataframe to an interactive table.\"\n",
              "              style=\"display:none;\">\n",
              "        \n",
              "  <svg xmlns=\"http://www.w3.org/2000/svg\" height=\"24px\"viewBox=\"0 0 24 24\"\n",
              "       width=\"24px\">\n",
              "    <path d=\"M0 0h24v24H0V0z\" fill=\"none\"/>\n",
              "    <path d=\"M18.56 5.44l.94 2.06.94-2.06 2.06-.94-2.06-.94-.94-2.06-.94 2.06-2.06.94zm-11 1L8.5 8.5l.94-2.06 2.06-.94-2.06-.94L8.5 2.5l-.94 2.06-2.06.94zm10 10l.94 2.06.94-2.06 2.06-.94-2.06-.94-.94-2.06-.94 2.06-2.06.94z\"/><path d=\"M17.41 7.96l-1.37-1.37c-.4-.4-.92-.59-1.43-.59-.52 0-1.04.2-1.43.59L10.3 9.45l-7.72 7.72c-.78.78-.78 2.05 0 2.83L4 21.41c.39.39.9.59 1.41.59.51 0 1.02-.2 1.41-.59l7.78-7.78 2.81-2.81c.8-.78.8-2.07 0-2.86zM5.41 20L4 18.59l7.72-7.72 1.47 1.35L5.41 20z\"/>\n",
              "  </svg>\n",
              "      </button>\n",
              "      \n",
              "  <style>\n",
              "    .colab-df-container {\n",
              "      display:flex;\n",
              "      flex-wrap:wrap;\n",
              "      gap: 12px;\n",
              "    }\n",
              "\n",
              "    .colab-df-convert {\n",
              "      background-color: #E8F0FE;\n",
              "      border: none;\n",
              "      border-radius: 50%;\n",
              "      cursor: pointer;\n",
              "      display: none;\n",
              "      fill: #1967D2;\n",
              "      height: 32px;\n",
              "      padding: 0 0 0 0;\n",
              "      width: 32px;\n",
              "    }\n",
              "\n",
              "    .colab-df-convert:hover {\n",
              "      background-color: #E2EBFA;\n",
              "      box-shadow: 0px 1px 2px rgba(60, 64, 67, 0.3), 0px 1px 3px 1px rgba(60, 64, 67, 0.15);\n",
              "      fill: #174EA6;\n",
              "    }\n",
              "\n",
              "    [theme=dark] .colab-df-convert {\n",
              "      background-color: #3B4455;\n",
              "      fill: #D2E3FC;\n",
              "    }\n",
              "\n",
              "    [theme=dark] .colab-df-convert:hover {\n",
              "      background-color: #434B5C;\n",
              "      box-shadow: 0px 1px 3px 1px rgba(0, 0, 0, 0.15);\n",
              "      filter: drop-shadow(0px 1px 2px rgba(0, 0, 0, 0.3));\n",
              "      fill: #FFFFFF;\n",
              "    }\n",
              "  </style>\n",
              "\n",
              "      <script>\n",
              "        const buttonEl =\n",
              "          document.querySelector('#df-e16c7443-42a5-4b35-a6fb-b516f2b12019 button.colab-df-convert');\n",
              "        buttonEl.style.display =\n",
              "          google.colab.kernel.accessAllowed ? 'block' : 'none';\n",
              "\n",
              "        async function convertToInteractive(key) {\n",
              "          const element = document.querySelector('#df-e16c7443-42a5-4b35-a6fb-b516f2b12019');\n",
              "          const dataTable =\n",
              "            await google.colab.kernel.invokeFunction('convertToInteractive',\n",
              "                                                     [key], {});\n",
              "          if (!dataTable) return;\n",
              "\n",
              "          const docLinkHtml = 'Like what you see? Visit the ' +\n",
              "            '<a target=\"_blank\" href=https://colab.research.google.com/notebooks/data_table.ipynb>data table notebook</a>'\n",
              "            + ' to learn more about interactive tables.';\n",
              "          element.innerHTML = '';\n",
              "          dataTable['output_type'] = 'display_data';\n",
              "          await google.colab.output.renderOutput(dataTable, element);\n",
              "          const docLink = document.createElement('div');\n",
              "          docLink.innerHTML = docLinkHtml;\n",
              "          element.appendChild(docLink);\n",
              "        }\n",
              "      </script>\n",
              "    </div>\n",
              "  </div>\n",
              "  "
            ]
          },
          "metadata": {},
          "execution_count": 170
        }
      ]
    },
    {
      "cell_type": "markdown",
      "source": [
        "All features are categorical except Pictures."
      ],
      "metadata": {
        "id": "mIkKXIw7_HZ3"
      }
    },
    {
      "cell_type": "code",
      "source": [
        "# total number of rows in the dataframe\n",
        "print(f\"Total number of rows: {review_df.shape[0]}\")\n",
        "\n",
        "# number of duplicate rows\n",
        "print(f\"Number of duplicate rows: {duplicate_rows_count(review_df)}\")"
      ],
      "metadata": {
        "colab": {
          "base_uri": "https://localhost:8080/"
        },
        "outputId": "929e28ba-afa3-49c7-aae3-4a26daaedac2",
        "id": "ebtzXlwj_HZ3"
      },
      "execution_count": 171,
      "outputs": [
        {
          "output_type": "stream",
          "name": "stdout",
          "text": [
            "Total number of rows: 10000\n",
            "Number of duplicate rows: 36\n"
          ]
        }
      ]
    },
    {
      "cell_type": "markdown",
      "metadata": {
        "id": "t4TfHvBf_HZ3"
      },
      "source": [
        "*   The dataframe contains 10000 rows and has 36 duplicate rows."
      ]
    },
    {
      "cell_type": "code",
      "source": [
        "# information of features\n",
        "review_df.info()"
      ],
      "metadata": {
        "colab": {
          "base_uri": "https://localhost:8080/"
        },
        "outputId": "8edd6aa4-248f-4dcf-c672-5b526a3788ff",
        "id": "sdsvQmx6_HZ3"
      },
      "execution_count": 172,
      "outputs": [
        {
          "output_type": "stream",
          "name": "stdout",
          "text": [
            "<class 'pandas.core.frame.DataFrame'>\n",
            "RangeIndex: 10000 entries, 0 to 9999\n",
            "Data columns (total 7 columns):\n",
            " #   Column      Non-Null Count  Dtype \n",
            "---  ------      --------------  ----- \n",
            " 0   Restaurant  10000 non-null  object\n",
            " 1   Reviewer    9962 non-null   object\n",
            " 2   Review      9955 non-null   object\n",
            " 3   Rating      9962 non-null   object\n",
            " 4   Metadata    9962 non-null   object\n",
            " 5   Time        9962 non-null   object\n",
            " 6   Pictures    10000 non-null  int64 \n",
            "dtypes: int64(1), object(6)\n",
            "memory usage: 547.0+ KB\n"
          ]
        }
      ]
    },
    {
      "cell_type": "markdown",
      "metadata": {
        "id": "1CxoC7_l_HZ4"
      },
      "source": [
        "*   The dataframe contains 7 columns.\n",
        "*   Five columns have missing values.\n",
        "*   Two columns require conversion of datatype."
      ]
    },
    {
      "cell_type": "markdown",
      "source": [
        "# Data Cleaning"
      ],
      "metadata": {
        "id": "fbbtwVcwiYag"
      }
    },
    {
      "cell_type": "markdown",
      "source": [
        "Let's take a copy of both the datasets and work on them so that the original data don't get modified."
      ],
      "metadata": {
        "id": "1hnQz6qtExwY"
      }
    },
    {
      "cell_type": "code",
      "source": [
        "# copyong datasets\n",
        "meta_work_df = meta_df.copy()\n",
        "review_work_df = review_df.copy()"
      ],
      "metadata": {
        "id": "y__fkA32pcOX"
      },
      "execution_count": 173,
      "outputs": []
    },
    {
      "cell_type": "markdown",
      "source": [
        "## Removing Duplicate Rows"
      ],
      "metadata": {
        "id": "2CN1WQl7jSsS"
      }
    },
    {
      "cell_type": "markdown",
      "source": [
        "There are no duplicate rows to remove in restaurant metadata but it was found that there are 36 duplicate rows in review dataset. Let's remove these 36 rows of data."
      ],
      "metadata": {
        "id": "sY8SHL93oqKD"
      }
    },
    {
      "cell_type": "code",
      "source": [
        "# removing duplicate rows\n",
        "review_work_df.drop_duplicates(inplace=True)"
      ],
      "metadata": {
        "id": "qlZRfKTGo8Xv"
      },
      "execution_count": 174,
      "outputs": []
    },
    {
      "cell_type": "code",
      "source": [
        "# number of duplicate rows\n",
        "print(f\"Number of duplicate rows: {duplicate_rows_count(review_work_df)}\")"
      ],
      "metadata": {
        "colab": {
          "base_uri": "https://localhost:8080/"
        },
        "outputId": "e1a7f09e-d6ad-483b-cf74-a3ae0310d004",
        "id": "DOzPJprpqFXA"
      },
      "execution_count": 175,
      "outputs": [
        {
          "output_type": "stream",
          "name": "stdout",
          "text": [
            "Number of duplicate rows: 0\n"
          ]
        }
      ]
    },
    {
      "cell_type": "markdown",
      "source": [
        "## Handling Missing Values"
      ],
      "metadata": {
        "id": "HGcXzO7skxwk"
      }
    },
    {
      "cell_type": "code",
      "source": [
        "# defining a function to find the number and percentage of missing values\n",
        "def missing_values_count_percent(dataframe):\n",
        "  \"\"\"\n",
        "  Returns the number and percentage of missing values in each column in the dataframe if present\n",
        "  \"\"\"\n",
        "  num = 0\n",
        "  for column in dataframe.columns:\n",
        "    count = dataframe[column].isnull().sum()\n",
        "    percentage = round(count/dataframe.shape[0]*100, 2)\n",
        "    if count > 0:\n",
        "      print(f\"{column}: {count}({percentage}%)\")\n",
        "      num += 1\n",
        "  if num == 0:\n",
        "    print(\"There are no missing values in the dataframe.\")"
      ],
      "metadata": {
        "id": "prz9e3UZrAVP"
      },
      "execution_count": 176,
      "outputs": []
    },
    {
      "cell_type": "markdown",
      "source": [
        "Let's find the number of missing values in the restaurant metadata."
      ],
      "metadata": {
        "id": "Xev2ohIRRf6f"
      }
    },
    {
      "cell_type": "code",
      "source": [
        "# number of missing values in restaurant metadata\n",
        "missing_values_count_percent(meta_work_df)"
      ],
      "metadata": {
        "colab": {
          "base_uri": "https://localhost:8080/"
        },
        "id": "r2crY4Yfs8Bu",
        "outputId": "b7786792-035a-4f0d-88ab-41cf02aee754"
      },
      "execution_count": 177,
      "outputs": [
        {
          "output_type": "stream",
          "name": "stdout",
          "text": [
            "Collections: 54(51.43%)\n",
            "Timings: 1(0.95%)\n"
          ]
        }
      ]
    },
    {
      "cell_type": "markdown",
      "source": [
        "More than half of the observations of restaurant metadata have missing values in Collections. Imputing missing values in this feature is possible only by collecting more data. So let's remove this feature altogether since it will lead to inaccurate data analysis."
      ],
      "metadata": {
        "id": "Qga7M_WaxiGB"
      }
    },
    {
      "cell_type": "code",
      "source": [
        "# dropping Collections\n",
        "meta_work_df.drop('Collections', inplace=True, axis=1)"
      ],
      "metadata": {
        "id": "-vxSgxHyzp-Y"
      },
      "execution_count": 178,
      "outputs": []
    },
    {
      "cell_type": "markdown",
      "source": [
        "There is only 1 missing value in Timings. Let's check in which row it occurs."
      ],
      "metadata": {
        "id": "KRCwSSACz8Hw"
      }
    },
    {
      "cell_type": "code",
      "source": [
        "# the row in which Timings is null\n",
        "meta_work_df[meta_work_df['Timings'].isnull()]"
      ],
      "metadata": {
        "colab": {
          "base_uri": "https://localhost:8080/",
          "height": 0
        },
        "id": "Qs3m41tC0JSt",
        "outputId": "010c485f-553f-49c0-dd09-c2c91b2cfa50"
      },
      "execution_count": 179,
      "outputs": [
        {
          "output_type": "execute_result",
          "data": {
            "text/plain": [
              "          Name                                              Links Cost  \\\n",
              "30  Pot Pourri  https://www.zomato.com/hyderabad/pot-pourri-ga...  900   \n",
              "\n",
              "                              Cuisines Timings  \n",
              "30  Andhra, South Indian, North Indian     NaN  "
            ],
            "text/html": [
              "\n",
              "  <div id=\"df-a9344471-e1ce-4543-8633-a916067e12c1\">\n",
              "    <div class=\"colab-df-container\">\n",
              "      <div>\n",
              "<style scoped>\n",
              "    .dataframe tbody tr th:only-of-type {\n",
              "        vertical-align: middle;\n",
              "    }\n",
              "\n",
              "    .dataframe tbody tr th {\n",
              "        vertical-align: top;\n",
              "    }\n",
              "\n",
              "    .dataframe thead th {\n",
              "        text-align: right;\n",
              "    }\n",
              "</style>\n",
              "<table border=\"1\" class=\"dataframe\">\n",
              "  <thead>\n",
              "    <tr style=\"text-align: right;\">\n",
              "      <th></th>\n",
              "      <th>Name</th>\n",
              "      <th>Links</th>\n",
              "      <th>Cost</th>\n",
              "      <th>Cuisines</th>\n",
              "      <th>Timings</th>\n",
              "    </tr>\n",
              "  </thead>\n",
              "  <tbody>\n",
              "    <tr>\n",
              "      <th>30</th>\n",
              "      <td>Pot Pourri</td>\n",
              "      <td>https://www.zomato.com/hyderabad/pot-pourri-ga...</td>\n",
              "      <td>900</td>\n",
              "      <td>Andhra, South Indian, North Indian</td>\n",
              "      <td>NaN</td>\n",
              "    </tr>\n",
              "  </tbody>\n",
              "</table>\n",
              "</div>\n",
              "      <button class=\"colab-df-convert\" onclick=\"convertToInteractive('df-a9344471-e1ce-4543-8633-a916067e12c1')\"\n",
              "              title=\"Convert this dataframe to an interactive table.\"\n",
              "              style=\"display:none;\">\n",
              "        \n",
              "  <svg xmlns=\"http://www.w3.org/2000/svg\" height=\"24px\"viewBox=\"0 0 24 24\"\n",
              "       width=\"24px\">\n",
              "    <path d=\"M0 0h24v24H0V0z\" fill=\"none\"/>\n",
              "    <path d=\"M18.56 5.44l.94 2.06.94-2.06 2.06-.94-2.06-.94-.94-2.06-.94 2.06-2.06.94zm-11 1L8.5 8.5l.94-2.06 2.06-.94-2.06-.94L8.5 2.5l-.94 2.06-2.06.94zm10 10l.94 2.06.94-2.06 2.06-.94-2.06-.94-.94-2.06-.94 2.06-2.06.94z\"/><path d=\"M17.41 7.96l-1.37-1.37c-.4-.4-.92-.59-1.43-.59-.52 0-1.04.2-1.43.59L10.3 9.45l-7.72 7.72c-.78.78-.78 2.05 0 2.83L4 21.41c.39.39.9.59 1.41.59.51 0 1.02-.2 1.41-.59l7.78-7.78 2.81-2.81c.8-.78.8-2.07 0-2.86zM5.41 20L4 18.59l7.72-7.72 1.47 1.35L5.41 20z\"/>\n",
              "  </svg>\n",
              "      </button>\n",
              "      \n",
              "  <style>\n",
              "    .colab-df-container {\n",
              "      display:flex;\n",
              "      flex-wrap:wrap;\n",
              "      gap: 12px;\n",
              "    }\n",
              "\n",
              "    .colab-df-convert {\n",
              "      background-color: #E8F0FE;\n",
              "      border: none;\n",
              "      border-radius: 50%;\n",
              "      cursor: pointer;\n",
              "      display: none;\n",
              "      fill: #1967D2;\n",
              "      height: 32px;\n",
              "      padding: 0 0 0 0;\n",
              "      width: 32px;\n",
              "    }\n",
              "\n",
              "    .colab-df-convert:hover {\n",
              "      background-color: #E2EBFA;\n",
              "      box-shadow: 0px 1px 2px rgba(60, 64, 67, 0.3), 0px 1px 3px 1px rgba(60, 64, 67, 0.15);\n",
              "      fill: #174EA6;\n",
              "    }\n",
              "\n",
              "    [theme=dark] .colab-df-convert {\n",
              "      background-color: #3B4455;\n",
              "      fill: #D2E3FC;\n",
              "    }\n",
              "\n",
              "    [theme=dark] .colab-df-convert:hover {\n",
              "      background-color: #434B5C;\n",
              "      box-shadow: 0px 1px 3px 1px rgba(0, 0, 0, 0.15);\n",
              "      filter: drop-shadow(0px 1px 2px rgba(0, 0, 0, 0.3));\n",
              "      fill: #FFFFFF;\n",
              "    }\n",
              "  </style>\n",
              "\n",
              "      <script>\n",
              "        const buttonEl =\n",
              "          document.querySelector('#df-a9344471-e1ce-4543-8633-a916067e12c1 button.colab-df-convert');\n",
              "        buttonEl.style.display =\n",
              "          google.colab.kernel.accessAllowed ? 'block' : 'none';\n",
              "\n",
              "        async function convertToInteractive(key) {\n",
              "          const element = document.querySelector('#df-a9344471-e1ce-4543-8633-a916067e12c1');\n",
              "          const dataTable =\n",
              "            await google.colab.kernel.invokeFunction('convertToInteractive',\n",
              "                                                     [key], {});\n",
              "          if (!dataTable) return;\n",
              "\n",
              "          const docLinkHtml = 'Like what you see? Visit the ' +\n",
              "            '<a target=\"_blank\" href=https://colab.research.google.com/notebooks/data_table.ipynb>data table notebook</a>'\n",
              "            + ' to learn more about interactive tables.';\n",
              "          element.innerHTML = '';\n",
              "          dataTable['output_type'] = 'display_data';\n",
              "          await google.colab.output.renderOutput(dataTable, element);\n",
              "          const docLink = document.createElement('div');\n",
              "          docLink.innerHTML = docLinkHtml;\n",
              "          element.appendChild(docLink);\n",
              "        }\n",
              "      </script>\n",
              "    </div>\n",
              "  </div>\n",
              "  "
            ]
          },
          "metadata": {},
          "execution_count": 179
        }
      ]
    },
    {
      "cell_type": "markdown",
      "source": [
        "Let's impute the missing value with the mode of Timings."
      ],
      "metadata": {
        "id": "Zisve69e4REy"
      }
    },
    {
      "cell_type": "code",
      "source": [
        "# imputing missing value with mode\n",
        "meta_work_df.fillna(meta_work_df['Timings'].mode()[0], inplace=True)"
      ],
      "metadata": {
        "id": "qm_FLCp748JX"
      },
      "execution_count": 180,
      "outputs": []
    },
    {
      "cell_type": "code",
      "source": [
        "# number of missing values in restaurant metadata\n",
        "missing_values_count_percent(meta_work_df)"
      ],
      "metadata": {
        "colab": {
          "base_uri": "https://localhost:8080/"
        },
        "outputId": "974cbef5-f462-4963-9de3-66cf5e0780fb",
        "id": "NbWliyXQ5SbK"
      },
      "execution_count": 181,
      "outputs": [
        {
          "output_type": "stream",
          "name": "stdout",
          "text": [
            "There are no missing values in the dataframe.\n"
          ]
        }
      ]
    },
    {
      "cell_type": "markdown",
      "source": [
        "Let's find the number of missing values in the review dataset."
      ],
      "metadata": {
        "id": "6OtZU2pDRqTm"
      }
    },
    {
      "cell_type": "code",
      "source": [
        "# number of missing values in review dataset\n",
        "missing_values_count_percent(review_work_df)"
      ],
      "metadata": {
        "colab": {
          "base_uri": "https://localhost:8080/"
        },
        "outputId": "5f0c4c09-729b-480a-c958-f5ff2d1c67d6",
        "id": "R7jth3jF5V6k"
      },
      "execution_count": 182,
      "outputs": [
        {
          "output_type": "stream",
          "name": "stdout",
          "text": [
            "Reviewer: 2(0.02%)\n",
            "Review: 9(0.09%)\n",
            "Rating: 2(0.02%)\n",
            "Metadata: 2(0.02%)\n",
            "Time: 2(0.02%)\n"
          ]
        }
      ]
    },
    {
      "cell_type": "markdown",
      "source": [
        "Since this is a very small number of data, let's remove these observations."
      ],
      "metadata": {
        "id": "pxRIiTE35-IB"
      }
    },
    {
      "cell_type": "code",
      "source": [
        "# dropping rows which have missing values\n",
        "review_work_df.dropna(inplace=True)"
      ],
      "metadata": {
        "id": "X86BPfiE5rkw"
      },
      "execution_count": 183,
      "outputs": []
    },
    {
      "cell_type": "code",
      "source": [
        "# number of missing values in review dataset\n",
        "missing_values_count_percent(review_work_df)"
      ],
      "metadata": {
        "colab": {
          "base_uri": "https://localhost:8080/"
        },
        "outputId": "b4163ad8-57bc-425f-aaa4-7c0ca151eec1",
        "id": "joE980uQ6-K5"
      },
      "execution_count": 184,
      "outputs": [
        {
          "output_type": "stream",
          "name": "stdout",
          "text": [
            "There are no missing values in the dataframe.\n"
          ]
        }
      ]
    },
    {
      "cell_type": "markdown",
      "source": [
        "## Conversion of Column Datatype"
      ],
      "metadata": {
        "id": "GAnQKHoPlGmM"
      }
    },
    {
      "cell_type": "markdown",
      "source": [
        "Let's convert the data type of Cost in restaurant metadata to int."
      ],
      "metadata": {
        "id": "UnEGMjIZw6EI"
      }
    },
    {
      "cell_type": "code",
      "source": [
        "# converting the datatype of Cost from object to int\n",
        "meta_work_df['Cost'] = meta_work_df['Cost'].str.replace(',', '')\n",
        "meta_work_df = meta_work_df.astype({'Cost':int})"
      ],
      "metadata": {
        "id": "e96Y1f38w_-h"
      },
      "execution_count": 185,
      "outputs": []
    },
    {
      "cell_type": "markdown",
      "source": [
        "The datatype of Cuisines in restaurant metadata needs to be converted to list for easier analysis."
      ],
      "metadata": {
        "id": "xfI65c8TGQEE"
      }
    },
    {
      "cell_type": "code",
      "source": [
        "# converting the datatype of Cuisines from object to list\n",
        "meta_work_df['Cuisines'] = meta_work_df['Cuisines'].str.split(', ')\n",
        "\n",
        "# exploring the head of the dataframe\n",
        "meta_work_df.head()"
      ],
      "metadata": {
        "colab": {
          "base_uri": "https://localhost:8080/",
          "height": 0
        },
        "id": "zxx0oe5jGk-n",
        "outputId": "cf690811-b366-49df-be43-70136141d60b"
      },
      "execution_count": 186,
      "outputs": [
        {
          "output_type": "execute_result",
          "data": {
            "text/plain": [
              "                             Name  \\\n",
              "0                 Beyond Flavours   \n",
              "1                        Paradise   \n",
              "2                        Flechazo   \n",
              "3  Shah Ghouse Hotel & Restaurant   \n",
              "4      Over The Moon Brew Company   \n",
              "\n",
              "                                               Links  Cost  \\\n",
              "0  https://www.zomato.com/hyderabad/beyond-flavou...   800   \n",
              "1  https://www.zomato.com/hyderabad/paradise-gach...   800   \n",
              "2  https://www.zomato.com/hyderabad/flechazo-gach...  1300   \n",
              "3  https://www.zomato.com/hyderabad/shah-ghouse-h...   800   \n",
              "4  https://www.zomato.com/hyderabad/over-the-moon...  1200   \n",
              "\n",
              "                                            Cuisines  \\\n",
              "0  [Chinese, Continental, Kebab, European, South ...   \n",
              "1                   [Biryani, North Indian, Chinese]   \n",
              "2     [Asian, Mediterranean, North Indian, Desserts]   \n",
              "3  [Biryani, North Indian, Chinese, Seafood, Beve...   \n",
              "4  [Asian, Continental, North Indian, Chinese, Me...   \n",
              "\n",
              "                                             Timings  \n",
              "0      12noon to 3:30pm, 6:30pm to 11:30pm (Mon-Sun)  \n",
              "1                                     11 AM to 11 PM  \n",
              "2              11:30 AM to 4:30 PM, 6:30 PM to 11 PM  \n",
              "3                                    12 Noon to 2 AM  \n",
              "4  12noon to 11pm (Mon, Tue, Wed, Thu, Sun), 12no...  "
            ],
            "text/html": [
              "\n",
              "  <div id=\"df-f4e05bb4-e5b6-41bd-aeb9-a4d2b1c7448c\">\n",
              "    <div class=\"colab-df-container\">\n",
              "      <div>\n",
              "<style scoped>\n",
              "    .dataframe tbody tr th:only-of-type {\n",
              "        vertical-align: middle;\n",
              "    }\n",
              "\n",
              "    .dataframe tbody tr th {\n",
              "        vertical-align: top;\n",
              "    }\n",
              "\n",
              "    .dataframe thead th {\n",
              "        text-align: right;\n",
              "    }\n",
              "</style>\n",
              "<table border=\"1\" class=\"dataframe\">\n",
              "  <thead>\n",
              "    <tr style=\"text-align: right;\">\n",
              "      <th></th>\n",
              "      <th>Name</th>\n",
              "      <th>Links</th>\n",
              "      <th>Cost</th>\n",
              "      <th>Cuisines</th>\n",
              "      <th>Timings</th>\n",
              "    </tr>\n",
              "  </thead>\n",
              "  <tbody>\n",
              "    <tr>\n",
              "      <th>0</th>\n",
              "      <td>Beyond Flavours</td>\n",
              "      <td>https://www.zomato.com/hyderabad/beyond-flavou...</td>\n",
              "      <td>800</td>\n",
              "      <td>[Chinese, Continental, Kebab, European, South ...</td>\n",
              "      <td>12noon to 3:30pm, 6:30pm to 11:30pm (Mon-Sun)</td>\n",
              "    </tr>\n",
              "    <tr>\n",
              "      <th>1</th>\n",
              "      <td>Paradise</td>\n",
              "      <td>https://www.zomato.com/hyderabad/paradise-gach...</td>\n",
              "      <td>800</td>\n",
              "      <td>[Biryani, North Indian, Chinese]</td>\n",
              "      <td>11 AM to 11 PM</td>\n",
              "    </tr>\n",
              "    <tr>\n",
              "      <th>2</th>\n",
              "      <td>Flechazo</td>\n",
              "      <td>https://www.zomato.com/hyderabad/flechazo-gach...</td>\n",
              "      <td>1300</td>\n",
              "      <td>[Asian, Mediterranean, North Indian, Desserts]</td>\n",
              "      <td>11:30 AM to 4:30 PM, 6:30 PM to 11 PM</td>\n",
              "    </tr>\n",
              "    <tr>\n",
              "      <th>3</th>\n",
              "      <td>Shah Ghouse Hotel &amp; Restaurant</td>\n",
              "      <td>https://www.zomato.com/hyderabad/shah-ghouse-h...</td>\n",
              "      <td>800</td>\n",
              "      <td>[Biryani, North Indian, Chinese, Seafood, Beve...</td>\n",
              "      <td>12 Noon to 2 AM</td>\n",
              "    </tr>\n",
              "    <tr>\n",
              "      <th>4</th>\n",
              "      <td>Over The Moon Brew Company</td>\n",
              "      <td>https://www.zomato.com/hyderabad/over-the-moon...</td>\n",
              "      <td>1200</td>\n",
              "      <td>[Asian, Continental, North Indian, Chinese, Me...</td>\n",
              "      <td>12noon to 11pm (Mon, Tue, Wed, Thu, Sun), 12no...</td>\n",
              "    </tr>\n",
              "  </tbody>\n",
              "</table>\n",
              "</div>\n",
              "      <button class=\"colab-df-convert\" onclick=\"convertToInteractive('df-f4e05bb4-e5b6-41bd-aeb9-a4d2b1c7448c')\"\n",
              "              title=\"Convert this dataframe to an interactive table.\"\n",
              "              style=\"display:none;\">\n",
              "        \n",
              "  <svg xmlns=\"http://www.w3.org/2000/svg\" height=\"24px\"viewBox=\"0 0 24 24\"\n",
              "       width=\"24px\">\n",
              "    <path d=\"M0 0h24v24H0V0z\" fill=\"none\"/>\n",
              "    <path d=\"M18.56 5.44l.94 2.06.94-2.06 2.06-.94-2.06-.94-.94-2.06-.94 2.06-2.06.94zm-11 1L8.5 8.5l.94-2.06 2.06-.94-2.06-.94L8.5 2.5l-.94 2.06-2.06.94zm10 10l.94 2.06.94-2.06 2.06-.94-2.06-.94-.94-2.06-.94 2.06-2.06.94z\"/><path d=\"M17.41 7.96l-1.37-1.37c-.4-.4-.92-.59-1.43-.59-.52 0-1.04.2-1.43.59L10.3 9.45l-7.72 7.72c-.78.78-.78 2.05 0 2.83L4 21.41c.39.39.9.59 1.41.59.51 0 1.02-.2 1.41-.59l7.78-7.78 2.81-2.81c.8-.78.8-2.07 0-2.86zM5.41 20L4 18.59l7.72-7.72 1.47 1.35L5.41 20z\"/>\n",
              "  </svg>\n",
              "      </button>\n",
              "      \n",
              "  <style>\n",
              "    .colab-df-container {\n",
              "      display:flex;\n",
              "      flex-wrap:wrap;\n",
              "      gap: 12px;\n",
              "    }\n",
              "\n",
              "    .colab-df-convert {\n",
              "      background-color: #E8F0FE;\n",
              "      border: none;\n",
              "      border-radius: 50%;\n",
              "      cursor: pointer;\n",
              "      display: none;\n",
              "      fill: #1967D2;\n",
              "      height: 32px;\n",
              "      padding: 0 0 0 0;\n",
              "      width: 32px;\n",
              "    }\n",
              "\n",
              "    .colab-df-convert:hover {\n",
              "      background-color: #E2EBFA;\n",
              "      box-shadow: 0px 1px 2px rgba(60, 64, 67, 0.3), 0px 1px 3px 1px rgba(60, 64, 67, 0.15);\n",
              "      fill: #174EA6;\n",
              "    }\n",
              "\n",
              "    [theme=dark] .colab-df-convert {\n",
              "      background-color: #3B4455;\n",
              "      fill: #D2E3FC;\n",
              "    }\n",
              "\n",
              "    [theme=dark] .colab-df-convert:hover {\n",
              "      background-color: #434B5C;\n",
              "      box-shadow: 0px 1px 3px 1px rgba(0, 0, 0, 0.15);\n",
              "      filter: drop-shadow(0px 1px 2px rgba(0, 0, 0, 0.3));\n",
              "      fill: #FFFFFF;\n",
              "    }\n",
              "  </style>\n",
              "\n",
              "      <script>\n",
              "        const buttonEl =\n",
              "          document.querySelector('#df-f4e05bb4-e5b6-41bd-aeb9-a4d2b1c7448c button.colab-df-convert');\n",
              "        buttonEl.style.display =\n",
              "          google.colab.kernel.accessAllowed ? 'block' : 'none';\n",
              "\n",
              "        async function convertToInteractive(key) {\n",
              "          const element = document.querySelector('#df-f4e05bb4-e5b6-41bd-aeb9-a4d2b1c7448c');\n",
              "          const dataTable =\n",
              "            await google.colab.kernel.invokeFunction('convertToInteractive',\n",
              "                                                     [key], {});\n",
              "          if (!dataTable) return;\n",
              "\n",
              "          const docLinkHtml = 'Like what you see? Visit the ' +\n",
              "            '<a target=\"_blank\" href=https://colab.research.google.com/notebooks/data_table.ipynb>data table notebook</a>'\n",
              "            + ' to learn more about interactive tables.';\n",
              "          element.innerHTML = '';\n",
              "          dataTable['output_type'] = 'display_data';\n",
              "          await google.colab.output.renderOutput(dataTable, element);\n",
              "          const docLink = document.createElement('div');\n",
              "          docLink.innerHTML = docLinkHtml;\n",
              "          element.appendChild(docLink);\n",
              "        }\n",
              "      </script>\n",
              "    </div>\n",
              "  </div>\n",
              "  "
            ]
          },
          "metadata": {},
          "execution_count": 186
        }
      ]
    },
    {
      "cell_type": "markdown",
      "source": [
        "The datatype of Rating in review dataset is supposed to be float. But it is of object datatype. The unique values in Rating should be checked to see why this happened."
      ],
      "metadata": {
        "id": "YC62MN82bwlL"
      }
    },
    {
      "cell_type": "code",
      "source": [
        "# unique values in Rating\n",
        "print(review_work_df['Rating'].unique())"
      ],
      "metadata": {
        "colab": {
          "base_uri": "https://localhost:8080/"
        },
        "id": "oqpEMGk1cIGK",
        "outputId": "e3e9ada6-8c99-4d2b-f1c3-ef4f1aca3acb"
      },
      "execution_count": 187,
      "outputs": [
        {
          "output_type": "stream",
          "name": "stdout",
          "text": [
            "['5' '4' '1' '3' '2' '3.5' '4.5' '2.5' '1.5' 'Like']\n"
          ]
        }
      ]
    },
    {
      "cell_type": "markdown",
      "source": [
        "The datatype of Rating was determined as object due to the presense of 'Like'. Lets replace 'Like' with an appropriate rating of 3.5."
      ],
      "metadata": {
        "id": "GcO-K2G4cp9b"
      }
    },
    {
      "cell_type": "code",
      "source": [
        "# replacing 'Like' with 3.5\n",
        "review_work_df['Rating'] = review_work_df['Rating'].replace('Like', 3.5)\n",
        "\n",
        "# converting datatype of Rating to float\n",
        "review_work_df = review_work_df.astype({'Rating':float})"
      ],
      "metadata": {
        "id": "Zt2MggKfdmVP"
      },
      "execution_count": 188,
      "outputs": []
    },
    {
      "cell_type": "markdown",
      "source": [
        "The most appropriate datatype for Metadata in review dataset is dictionary. So let's convert the daytype of Metadata to dictionary with keys 'Review' and 'Followers'."
      ],
      "metadata": {
        "id": "RR3Kb1DqF-jV"
      }
    },
    {
      "cell_type": "code",
      "source": [
        "# defining a function for applying to each row for converting Metadata to dictionary\n",
        "def convert_to_metadata_dict(val):\n",
        "  \"\"\"\n",
        "  A function to convert the datatype of Metadata to dictionary\n",
        "  \"\"\"\n",
        "  split_val = str(val).split()\n",
        "  metadata_dict = {'Reviews':int(split_val[0]), 'Followers':0}\n",
        "  if len(split_val) > 2:\n",
        "    metadata_dict['Followers'] = int(split_val[3])\n",
        "  return metadata_dict\n",
        "\n",
        "# applying function to each value in Metadata\n",
        "review_work_df['Metadata'] = review_work_df['Metadata'].apply(lambda x : convert_to_metadata_dict(x))\n",
        "\n",
        "# exploring the head of the dataframe\n",
        "review_work_df.head()"
      ],
      "metadata": {
        "colab": {
          "base_uri": "https://localhost:8080/",
          "height": 0
        },
        "id": "HqXeSXOSJoLe",
        "outputId": "ef99140b-fd17-434f-9647-7271dc0b553a"
      },
      "execution_count": 189,
      "outputs": [
        {
          "output_type": "execute_result",
          "data": {
            "text/plain": [
              "        Restaurant              Reviewer  \\\n",
              "0  Beyond Flavours     Rusha Chakraborty   \n",
              "1  Beyond Flavours  Anusha Tirumalaneedi   \n",
              "2  Beyond Flavours       Ashok Shekhawat   \n",
              "3  Beyond Flavours        Swapnil Sarkar   \n",
              "4  Beyond Flavours                Dileep   \n",
              "\n",
              "                                              Review  Rating  \\\n",
              "0  The ambience was good, food was quite good . h...     5.0   \n",
              "1  Ambience is too good for a pleasant evening. S...     5.0   \n",
              "2  A must try.. great food great ambience. Thnx f...     5.0   \n",
              "3  Soumen das and Arun was a great guy. Only beca...     5.0   \n",
              "4  Food is good.we ordered Kodi drumsticks and ba...     5.0   \n",
              "\n",
              "                         Metadata             Time  Pictures  \n",
              "0  {'Reviews': 1, 'Followers': 2}  5/25/2019 15:54         0  \n",
              "1  {'Reviews': 3, 'Followers': 2}  5/25/2019 14:20         0  \n",
              "2  {'Reviews': 2, 'Followers': 3}  5/24/2019 22:54         0  \n",
              "3  {'Reviews': 1, 'Followers': 1}  5/24/2019 22:11         0  \n",
              "4  {'Reviews': 3, 'Followers': 2}  5/24/2019 21:37         0  "
            ],
            "text/html": [
              "\n",
              "  <div id=\"df-95597401-9ec0-4578-b779-642a53d4537e\">\n",
              "    <div class=\"colab-df-container\">\n",
              "      <div>\n",
              "<style scoped>\n",
              "    .dataframe tbody tr th:only-of-type {\n",
              "        vertical-align: middle;\n",
              "    }\n",
              "\n",
              "    .dataframe tbody tr th {\n",
              "        vertical-align: top;\n",
              "    }\n",
              "\n",
              "    .dataframe thead th {\n",
              "        text-align: right;\n",
              "    }\n",
              "</style>\n",
              "<table border=\"1\" class=\"dataframe\">\n",
              "  <thead>\n",
              "    <tr style=\"text-align: right;\">\n",
              "      <th></th>\n",
              "      <th>Restaurant</th>\n",
              "      <th>Reviewer</th>\n",
              "      <th>Review</th>\n",
              "      <th>Rating</th>\n",
              "      <th>Metadata</th>\n",
              "      <th>Time</th>\n",
              "      <th>Pictures</th>\n",
              "    </tr>\n",
              "  </thead>\n",
              "  <tbody>\n",
              "    <tr>\n",
              "      <th>0</th>\n",
              "      <td>Beyond Flavours</td>\n",
              "      <td>Rusha Chakraborty</td>\n",
              "      <td>The ambience was good, food was quite good . h...</td>\n",
              "      <td>5.0</td>\n",
              "      <td>{'Reviews': 1, 'Followers': 2}</td>\n",
              "      <td>5/25/2019 15:54</td>\n",
              "      <td>0</td>\n",
              "    </tr>\n",
              "    <tr>\n",
              "      <th>1</th>\n",
              "      <td>Beyond Flavours</td>\n",
              "      <td>Anusha Tirumalaneedi</td>\n",
              "      <td>Ambience is too good for a pleasant evening. S...</td>\n",
              "      <td>5.0</td>\n",
              "      <td>{'Reviews': 3, 'Followers': 2}</td>\n",
              "      <td>5/25/2019 14:20</td>\n",
              "      <td>0</td>\n",
              "    </tr>\n",
              "    <tr>\n",
              "      <th>2</th>\n",
              "      <td>Beyond Flavours</td>\n",
              "      <td>Ashok Shekhawat</td>\n",
              "      <td>A must try.. great food great ambience. Thnx f...</td>\n",
              "      <td>5.0</td>\n",
              "      <td>{'Reviews': 2, 'Followers': 3}</td>\n",
              "      <td>5/24/2019 22:54</td>\n",
              "      <td>0</td>\n",
              "    </tr>\n",
              "    <tr>\n",
              "      <th>3</th>\n",
              "      <td>Beyond Flavours</td>\n",
              "      <td>Swapnil Sarkar</td>\n",
              "      <td>Soumen das and Arun was a great guy. Only beca...</td>\n",
              "      <td>5.0</td>\n",
              "      <td>{'Reviews': 1, 'Followers': 1}</td>\n",
              "      <td>5/24/2019 22:11</td>\n",
              "      <td>0</td>\n",
              "    </tr>\n",
              "    <tr>\n",
              "      <th>4</th>\n",
              "      <td>Beyond Flavours</td>\n",
              "      <td>Dileep</td>\n",
              "      <td>Food is good.we ordered Kodi drumsticks and ba...</td>\n",
              "      <td>5.0</td>\n",
              "      <td>{'Reviews': 3, 'Followers': 2}</td>\n",
              "      <td>5/24/2019 21:37</td>\n",
              "      <td>0</td>\n",
              "    </tr>\n",
              "  </tbody>\n",
              "</table>\n",
              "</div>\n",
              "      <button class=\"colab-df-convert\" onclick=\"convertToInteractive('df-95597401-9ec0-4578-b779-642a53d4537e')\"\n",
              "              title=\"Convert this dataframe to an interactive table.\"\n",
              "              style=\"display:none;\">\n",
              "        \n",
              "  <svg xmlns=\"http://www.w3.org/2000/svg\" height=\"24px\"viewBox=\"0 0 24 24\"\n",
              "       width=\"24px\">\n",
              "    <path d=\"M0 0h24v24H0V0z\" fill=\"none\"/>\n",
              "    <path d=\"M18.56 5.44l.94 2.06.94-2.06 2.06-.94-2.06-.94-.94-2.06-.94 2.06-2.06.94zm-11 1L8.5 8.5l.94-2.06 2.06-.94-2.06-.94L8.5 2.5l-.94 2.06-2.06.94zm10 10l.94 2.06.94-2.06 2.06-.94-2.06-.94-.94-2.06-.94 2.06-2.06.94z\"/><path d=\"M17.41 7.96l-1.37-1.37c-.4-.4-.92-.59-1.43-.59-.52 0-1.04.2-1.43.59L10.3 9.45l-7.72 7.72c-.78.78-.78 2.05 0 2.83L4 21.41c.39.39.9.59 1.41.59.51 0 1.02-.2 1.41-.59l7.78-7.78 2.81-2.81c.8-.78.8-2.07 0-2.86zM5.41 20L4 18.59l7.72-7.72 1.47 1.35L5.41 20z\"/>\n",
              "  </svg>\n",
              "      </button>\n",
              "      \n",
              "  <style>\n",
              "    .colab-df-container {\n",
              "      display:flex;\n",
              "      flex-wrap:wrap;\n",
              "      gap: 12px;\n",
              "    }\n",
              "\n",
              "    .colab-df-convert {\n",
              "      background-color: #E8F0FE;\n",
              "      border: none;\n",
              "      border-radius: 50%;\n",
              "      cursor: pointer;\n",
              "      display: none;\n",
              "      fill: #1967D2;\n",
              "      height: 32px;\n",
              "      padding: 0 0 0 0;\n",
              "      width: 32px;\n",
              "    }\n",
              "\n",
              "    .colab-df-convert:hover {\n",
              "      background-color: #E2EBFA;\n",
              "      box-shadow: 0px 1px 2px rgba(60, 64, 67, 0.3), 0px 1px 3px 1px rgba(60, 64, 67, 0.15);\n",
              "      fill: #174EA6;\n",
              "    }\n",
              "\n",
              "    [theme=dark] .colab-df-convert {\n",
              "      background-color: #3B4455;\n",
              "      fill: #D2E3FC;\n",
              "    }\n",
              "\n",
              "    [theme=dark] .colab-df-convert:hover {\n",
              "      background-color: #434B5C;\n",
              "      box-shadow: 0px 1px 3px 1px rgba(0, 0, 0, 0.15);\n",
              "      filter: drop-shadow(0px 1px 2px rgba(0, 0, 0, 0.3));\n",
              "      fill: #FFFFFF;\n",
              "    }\n",
              "  </style>\n",
              "\n",
              "      <script>\n",
              "        const buttonEl =\n",
              "          document.querySelector('#df-95597401-9ec0-4578-b779-642a53d4537e button.colab-df-convert');\n",
              "        buttonEl.style.display =\n",
              "          google.colab.kernel.accessAllowed ? 'block' : 'none';\n",
              "\n",
              "        async function convertToInteractive(key) {\n",
              "          const element = document.querySelector('#df-95597401-9ec0-4578-b779-642a53d4537e');\n",
              "          const dataTable =\n",
              "            await google.colab.kernel.invokeFunction('convertToInteractive',\n",
              "                                                     [key], {});\n",
              "          if (!dataTable) return;\n",
              "\n",
              "          const docLinkHtml = 'Like what you see? Visit the ' +\n",
              "            '<a target=\"_blank\" href=https://colab.research.google.com/notebooks/data_table.ipynb>data table notebook</a>'\n",
              "            + ' to learn more about interactive tables.';\n",
              "          element.innerHTML = '';\n",
              "          dataTable['output_type'] = 'display_data';\n",
              "          await google.colab.output.renderOutput(dataTable, element);\n",
              "          const docLink = document.createElement('div');\n",
              "          docLink.innerHTML = docLinkHtml;\n",
              "          element.appendChild(docLink);\n",
              "        }\n",
              "      </script>\n",
              "    </div>\n",
              "  </div>\n",
              "  "
            ]
          },
          "metadata": {},
          "execution_count": 189
        }
      ]
    },
    {
      "cell_type": "markdown",
      "source": [
        "Let's convert the data type of Time in review dataset to datetime."
      ],
      "metadata": {
        "id": "8lRFwcQW85aP"
      }
    },
    {
      "cell_type": "code",
      "source": [
        "# converting the datatype of Time from object to datetime\n",
        "review_work_df['Time'] = pd.to_datetime(review_work_df['Time'])"
      ],
      "metadata": {
        "id": "sXZaW78l9Mqp"
      },
      "execution_count": 190,
      "outputs": []
    },
    {
      "cell_type": "markdown",
      "source": [
        "## Merging of Datasets"
      ],
      "metadata": {
        "id": "eKaNr13jBg7m"
      }
    },
    {
      "cell_type": "markdown",
      "source": [
        "Lets merge the two datasets for easier data analysis."
      ],
      "metadata": {
        "id": "zwigigVMBpUk"
      }
    },
    {
      "cell_type": "code",
      "source": [
        "# merging the datasets\n",
        "restaurant_df = meta_work_df.merge(right=review_work_df, left_on='Name', right_on='Restaurant').drop('Restaurant', axis=1).rename(columns={'Name':'Restaurant'})\n",
        "\n",
        "# exploring the head of the dataframe\n",
        "restaurant_df.head()"
      ],
      "metadata": {
        "colab": {
          "base_uri": "https://localhost:8080/",
          "height": 424
        },
        "id": "u2F2WOEvBnP7",
        "outputId": "13831d61-55db-4894-9800-132846219dbd"
      },
      "execution_count": 191,
      "outputs": [
        {
          "output_type": "execute_result",
          "data": {
            "text/plain": [
              "        Restaurant                                              Links  Cost  \\\n",
              "0  Beyond Flavours  https://www.zomato.com/hyderabad/beyond-flavou...   800   \n",
              "1  Beyond Flavours  https://www.zomato.com/hyderabad/beyond-flavou...   800   \n",
              "2  Beyond Flavours  https://www.zomato.com/hyderabad/beyond-flavou...   800   \n",
              "3  Beyond Flavours  https://www.zomato.com/hyderabad/beyond-flavou...   800   \n",
              "4  Beyond Flavours  https://www.zomato.com/hyderabad/beyond-flavou...   800   \n",
              "\n",
              "                                            Cuisines  \\\n",
              "0  [Chinese, Continental, Kebab, European, South ...   \n",
              "1  [Chinese, Continental, Kebab, European, South ...   \n",
              "2  [Chinese, Continental, Kebab, European, South ...   \n",
              "3  [Chinese, Continental, Kebab, European, South ...   \n",
              "4  [Chinese, Continental, Kebab, European, South ...   \n",
              "\n",
              "                                         Timings              Reviewer  \\\n",
              "0  12noon to 3:30pm, 6:30pm to 11:30pm (Mon-Sun)     Rusha Chakraborty   \n",
              "1  12noon to 3:30pm, 6:30pm to 11:30pm (Mon-Sun)  Anusha Tirumalaneedi   \n",
              "2  12noon to 3:30pm, 6:30pm to 11:30pm (Mon-Sun)       Ashok Shekhawat   \n",
              "3  12noon to 3:30pm, 6:30pm to 11:30pm (Mon-Sun)        Swapnil Sarkar   \n",
              "4  12noon to 3:30pm, 6:30pm to 11:30pm (Mon-Sun)                Dileep   \n",
              "\n",
              "                                              Review  Rating  \\\n",
              "0  The ambience was good, food was quite good . h...     5.0   \n",
              "1  Ambience is too good for a pleasant evening. S...     5.0   \n",
              "2  A must try.. great food great ambience. Thnx f...     5.0   \n",
              "3  Soumen das and Arun was a great guy. Only beca...     5.0   \n",
              "4  Food is good.we ordered Kodi drumsticks and ba...     5.0   \n",
              "\n",
              "                         Metadata                Time  Pictures  \n",
              "0  {'Reviews': 1, 'Followers': 2} 2019-05-25 15:54:00         0  \n",
              "1  {'Reviews': 3, 'Followers': 2} 2019-05-25 14:20:00         0  \n",
              "2  {'Reviews': 2, 'Followers': 3} 2019-05-24 22:54:00         0  \n",
              "3  {'Reviews': 1, 'Followers': 1} 2019-05-24 22:11:00         0  \n",
              "4  {'Reviews': 3, 'Followers': 2} 2019-05-24 21:37:00         0  "
            ],
            "text/html": [
              "\n",
              "  <div id=\"df-283d83ac-b30c-4718-9909-e85f32f4faaf\">\n",
              "    <div class=\"colab-df-container\">\n",
              "      <div>\n",
              "<style scoped>\n",
              "    .dataframe tbody tr th:only-of-type {\n",
              "        vertical-align: middle;\n",
              "    }\n",
              "\n",
              "    .dataframe tbody tr th {\n",
              "        vertical-align: top;\n",
              "    }\n",
              "\n",
              "    .dataframe thead th {\n",
              "        text-align: right;\n",
              "    }\n",
              "</style>\n",
              "<table border=\"1\" class=\"dataframe\">\n",
              "  <thead>\n",
              "    <tr style=\"text-align: right;\">\n",
              "      <th></th>\n",
              "      <th>Restaurant</th>\n",
              "      <th>Links</th>\n",
              "      <th>Cost</th>\n",
              "      <th>Cuisines</th>\n",
              "      <th>Timings</th>\n",
              "      <th>Reviewer</th>\n",
              "      <th>Review</th>\n",
              "      <th>Rating</th>\n",
              "      <th>Metadata</th>\n",
              "      <th>Time</th>\n",
              "      <th>Pictures</th>\n",
              "    </tr>\n",
              "  </thead>\n",
              "  <tbody>\n",
              "    <tr>\n",
              "      <th>0</th>\n",
              "      <td>Beyond Flavours</td>\n",
              "      <td>https://www.zomato.com/hyderabad/beyond-flavou...</td>\n",
              "      <td>800</td>\n",
              "      <td>[Chinese, Continental, Kebab, European, South ...</td>\n",
              "      <td>12noon to 3:30pm, 6:30pm to 11:30pm (Mon-Sun)</td>\n",
              "      <td>Rusha Chakraborty</td>\n",
              "      <td>The ambience was good, food was quite good . h...</td>\n",
              "      <td>5.0</td>\n",
              "      <td>{'Reviews': 1, 'Followers': 2}</td>\n",
              "      <td>2019-05-25 15:54:00</td>\n",
              "      <td>0</td>\n",
              "    </tr>\n",
              "    <tr>\n",
              "      <th>1</th>\n",
              "      <td>Beyond Flavours</td>\n",
              "      <td>https://www.zomato.com/hyderabad/beyond-flavou...</td>\n",
              "      <td>800</td>\n",
              "      <td>[Chinese, Continental, Kebab, European, South ...</td>\n",
              "      <td>12noon to 3:30pm, 6:30pm to 11:30pm (Mon-Sun)</td>\n",
              "      <td>Anusha Tirumalaneedi</td>\n",
              "      <td>Ambience is too good for a pleasant evening. S...</td>\n",
              "      <td>5.0</td>\n",
              "      <td>{'Reviews': 3, 'Followers': 2}</td>\n",
              "      <td>2019-05-25 14:20:00</td>\n",
              "      <td>0</td>\n",
              "    </tr>\n",
              "    <tr>\n",
              "      <th>2</th>\n",
              "      <td>Beyond Flavours</td>\n",
              "      <td>https://www.zomato.com/hyderabad/beyond-flavou...</td>\n",
              "      <td>800</td>\n",
              "      <td>[Chinese, Continental, Kebab, European, South ...</td>\n",
              "      <td>12noon to 3:30pm, 6:30pm to 11:30pm (Mon-Sun)</td>\n",
              "      <td>Ashok Shekhawat</td>\n",
              "      <td>A must try.. great food great ambience. Thnx f...</td>\n",
              "      <td>5.0</td>\n",
              "      <td>{'Reviews': 2, 'Followers': 3}</td>\n",
              "      <td>2019-05-24 22:54:00</td>\n",
              "      <td>0</td>\n",
              "    </tr>\n",
              "    <tr>\n",
              "      <th>3</th>\n",
              "      <td>Beyond Flavours</td>\n",
              "      <td>https://www.zomato.com/hyderabad/beyond-flavou...</td>\n",
              "      <td>800</td>\n",
              "      <td>[Chinese, Continental, Kebab, European, South ...</td>\n",
              "      <td>12noon to 3:30pm, 6:30pm to 11:30pm (Mon-Sun)</td>\n",
              "      <td>Swapnil Sarkar</td>\n",
              "      <td>Soumen das and Arun was a great guy. Only beca...</td>\n",
              "      <td>5.0</td>\n",
              "      <td>{'Reviews': 1, 'Followers': 1}</td>\n",
              "      <td>2019-05-24 22:11:00</td>\n",
              "      <td>0</td>\n",
              "    </tr>\n",
              "    <tr>\n",
              "      <th>4</th>\n",
              "      <td>Beyond Flavours</td>\n",
              "      <td>https://www.zomato.com/hyderabad/beyond-flavou...</td>\n",
              "      <td>800</td>\n",
              "      <td>[Chinese, Continental, Kebab, European, South ...</td>\n",
              "      <td>12noon to 3:30pm, 6:30pm to 11:30pm (Mon-Sun)</td>\n",
              "      <td>Dileep</td>\n",
              "      <td>Food is good.we ordered Kodi drumsticks and ba...</td>\n",
              "      <td>5.0</td>\n",
              "      <td>{'Reviews': 3, 'Followers': 2}</td>\n",
              "      <td>2019-05-24 21:37:00</td>\n",
              "      <td>0</td>\n",
              "    </tr>\n",
              "  </tbody>\n",
              "</table>\n",
              "</div>\n",
              "      <button class=\"colab-df-convert\" onclick=\"convertToInteractive('df-283d83ac-b30c-4718-9909-e85f32f4faaf')\"\n",
              "              title=\"Convert this dataframe to an interactive table.\"\n",
              "              style=\"display:none;\">\n",
              "        \n",
              "  <svg xmlns=\"http://www.w3.org/2000/svg\" height=\"24px\"viewBox=\"0 0 24 24\"\n",
              "       width=\"24px\">\n",
              "    <path d=\"M0 0h24v24H0V0z\" fill=\"none\"/>\n",
              "    <path d=\"M18.56 5.44l.94 2.06.94-2.06 2.06-.94-2.06-.94-.94-2.06-.94 2.06-2.06.94zm-11 1L8.5 8.5l.94-2.06 2.06-.94-2.06-.94L8.5 2.5l-.94 2.06-2.06.94zm10 10l.94 2.06.94-2.06 2.06-.94-2.06-.94-.94-2.06-.94 2.06-2.06.94z\"/><path d=\"M17.41 7.96l-1.37-1.37c-.4-.4-.92-.59-1.43-.59-.52 0-1.04.2-1.43.59L10.3 9.45l-7.72 7.72c-.78.78-.78 2.05 0 2.83L4 21.41c.39.39.9.59 1.41.59.51 0 1.02-.2 1.41-.59l7.78-7.78 2.81-2.81c.8-.78.8-2.07 0-2.86zM5.41 20L4 18.59l7.72-7.72 1.47 1.35L5.41 20z\"/>\n",
              "  </svg>\n",
              "      </button>\n",
              "      \n",
              "  <style>\n",
              "    .colab-df-container {\n",
              "      display:flex;\n",
              "      flex-wrap:wrap;\n",
              "      gap: 12px;\n",
              "    }\n",
              "\n",
              "    .colab-df-convert {\n",
              "      background-color: #E8F0FE;\n",
              "      border: none;\n",
              "      border-radius: 50%;\n",
              "      cursor: pointer;\n",
              "      display: none;\n",
              "      fill: #1967D2;\n",
              "      height: 32px;\n",
              "      padding: 0 0 0 0;\n",
              "      width: 32px;\n",
              "    }\n",
              "\n",
              "    .colab-df-convert:hover {\n",
              "      background-color: #E2EBFA;\n",
              "      box-shadow: 0px 1px 2px rgba(60, 64, 67, 0.3), 0px 1px 3px 1px rgba(60, 64, 67, 0.15);\n",
              "      fill: #174EA6;\n",
              "    }\n",
              "\n",
              "    [theme=dark] .colab-df-convert {\n",
              "      background-color: #3B4455;\n",
              "      fill: #D2E3FC;\n",
              "    }\n",
              "\n",
              "    [theme=dark] .colab-df-convert:hover {\n",
              "      background-color: #434B5C;\n",
              "      box-shadow: 0px 1px 3px 1px rgba(0, 0, 0, 0.15);\n",
              "      filter: drop-shadow(0px 1px 2px rgba(0, 0, 0, 0.3));\n",
              "      fill: #FFFFFF;\n",
              "    }\n",
              "  </style>\n",
              "\n",
              "      <script>\n",
              "        const buttonEl =\n",
              "          document.querySelector('#df-283d83ac-b30c-4718-9909-e85f32f4faaf button.colab-df-convert');\n",
              "        buttonEl.style.display =\n",
              "          google.colab.kernel.accessAllowed ? 'block' : 'none';\n",
              "\n",
              "        async function convertToInteractive(key) {\n",
              "          const element = document.querySelector('#df-283d83ac-b30c-4718-9909-e85f32f4faaf');\n",
              "          const dataTable =\n",
              "            await google.colab.kernel.invokeFunction('convertToInteractive',\n",
              "                                                     [key], {});\n",
              "          if (!dataTable) return;\n",
              "\n",
              "          const docLinkHtml = 'Like what you see? Visit the ' +\n",
              "            '<a target=\"_blank\" href=https://colab.research.google.com/notebooks/data_table.ipynb>data table notebook</a>'\n",
              "            + ' to learn more about interactive tables.';\n",
              "          element.innerHTML = '';\n",
              "          dataTable['output_type'] = 'display_data';\n",
              "          await google.colab.output.renderOutput(dataTable, element);\n",
              "          const docLink = document.createElement('div');\n",
              "          docLink.innerHTML = docLinkHtml;\n",
              "          element.appendChild(docLink);\n",
              "        }\n",
              "      </script>\n",
              "    </div>\n",
              "  </div>\n",
              "  "
            ]
          },
          "metadata": {},
          "execution_count": 191
        }
      ]
    },
    {
      "cell_type": "markdown",
      "source": [
        "# Exploratory Data Analysis"
      ],
      "metadata": {
        "id": "97vjWNj-VAIr"
      }
    },
    {
      "cell_type": "code",
      "source": [
        "# importing libraries for data visualization\n",
        "import matplotlib.pyplot as plt\n",
        "import seaborn as sns\n",
        "\n",
        "# filtering warining\n",
        "import warnings\n",
        "warnings.filterwarnings('ignore')"
      ],
      "metadata": {
        "id": "EQJnOKsRqhSu"
      },
      "execution_count": 192,
      "outputs": []
    },
    {
      "cell_type": "markdown",
      "source": [
        "## Most Expensive Restaurants"
      ],
      "metadata": {
        "id": "89yICRTjnFy4"
      }
    },
    {
      "cell_type": "code",
      "source": [
        "# defining a function to plot a vertical bar graph\n",
        "def plot_vertical_bar_graph(dataframe, x, y):\n",
        "  \"\"\"\n",
        "  Plots a vertical bar graph with \n",
        "  dataframe[x] as x-axis data \n",
        "  and dataframe[y] as y-axis data\n",
        "  \"\"\"\n",
        "  plt.figure(figsize=(16, 6))\n",
        "  sns.barplot(dataframe[x], dataframe[y])\n",
        "  if dataframe[x].str.len().max() > 15:\n",
        "    plt.xticks(rotation=90)\n",
        "  plt.show()"
      ],
      "metadata": {
        "id": "tT_LdrNXn74S"
      },
      "execution_count": 193,
      "outputs": []
    },
    {
      "cell_type": "markdown",
      "source": [
        "Let's find out the 10 most expensive restaurants among the dataset."
      ],
      "metadata": {
        "id": "kL3NXfOinYLI"
      }
    },
    {
      "cell_type": "code",
      "source": [
        "# plotting a vertical bar graph to display the top 10 most expensive restaurants\n",
        "plot_vertical_bar_graph(meta_work_df.sort_values('Cost', ascending=False).head(10), 'Name', 'Cost')"
      ],
      "metadata": {
        "colab": {
          "base_uri": "https://localhost:8080/",
          "height": 0
        },
        "id": "8daTb0RCrpoc",
        "outputId": "a80e75af-9216-4e85-ed84-f6545e96edd7"
      },
      "execution_count": 194,
      "outputs": [
        {
          "output_type": "display_data",
          "data": {
            "text/plain": [
              "<Figure size 1152x432 with 1 Axes>"
            ],
            "image/png": "[encoded data removed]"
          },
          "metadata": {
            "needs_background": "light"
          }
        }
      ]
    },
    {
      "cell_type": "markdown",
      "source": [
        "Collage - Hyatt Hyderabad Gachibowli is the most expensive restaurant followed by Feast - Sheraton Hyderabad Hotel."
      ],
      "metadata": {
        "id": "5-VSrAbM7DKp"
      }
    },
    {
      "cell_type": "markdown",
      "source": [
        "## Most Affordable Restaurants"
      ],
      "metadata": {
        "id": "k-NJmSbZ7ZKC"
      }
    },
    {
      "cell_type": "markdown",
      "source": [
        "Let's find out 10 most affordable restaurants in the dataset"
      ],
      "metadata": {
        "id": "SxWBOMUt7g2w"
      }
    },
    {
      "cell_type": "code",
      "source": [
        "# plotting a vertical bar graph to display the top 10 most affordable restaurants\n",
        "plot_vertical_bar_graph(meta_work_df.sort_values('Cost').head(10), 'Name', 'Cost')"
      ],
      "metadata": {
        "colab": {
          "base_uri": "https://localhost:8080/",
          "height": 0
        },
        "id": "fPvGSw-F7oh5",
        "outputId": "66d81ebe-7956-4b82-8a6d-494880f49293"
      },
      "execution_count": 195,
      "outputs": [
        {
          "output_type": "display_data",
          "data": {
            "text/plain": [
              "<Figure size 1152x432 with 1 Axes>"
            ],
            "image/png": "[encoded data removed]"
          },
          "metadata": {
            "needs_background": "light"
          }
        }
      ]
    },
    {
      "cell_type": "markdown",
      "source": [
        "Mohammedia Shawarma and Amul are the most affordable restaurant among the 105 restaurants in the dataset."
      ],
      "metadata": {
        "id": "r-O6S6Ur8WAr"
      }
    },
    {
      "cell_type": "markdown",
      "source": [
        "## Most Popular Cuisines"
      ],
      "metadata": {
        "id": "uSVTZsvU9r7J"
      }
    },
    {
      "cell_type": "markdown",
      "source": [
        "Let's check the 10 most popular cuisines by availability among all the restaurants."
      ],
      "metadata": {
        "id": "i4qi2NPf9v7v"
      }
    },
    {
      "cell_type": "code",
      "source": [
        "# creating a dictionary to store the number of restaurants a particular cuisine \n",
        "# is served\n",
        "cuisine_count = {'Cuisine':[], 'Count':[]}\n",
        "for cuisine_list in meta_work_df.Cuisines:\n",
        "  for cuisine in cuisine_list:\n",
        "    if cuisine not in cuisine_count['Cuisine']:\n",
        "      cuisine_count['Cuisine'].append(cuisine)\n",
        "      cuisine_count['Count'].append(1)\n",
        "    else:\n",
        "      cuisine_count['Count'][cuisine_count['Cuisine'].index(cuisine)] += 1"
      ],
      "metadata": {
        "id": "wFXJk3rA_BaU"
      },
      "execution_count": 196,
      "outputs": []
    },
    {
      "cell_type": "code",
      "source": [
        "# converting the cuisine count dictionary to a dataframe with 10 most available cuisines\n",
        "cuisine_count_most_df = pd.DataFrame(cuisine_count).sort_values('Count', ascending=False).head(10)\n",
        "\n",
        "# plotting a vertical bar graph to display the most available cuisines\n",
        "plot_vertical_bar_graph(cuisine_count_most_df, 'Cuisine', 'Count')"
      ],
      "metadata": {
        "colab": {
          "base_uri": "https://localhost:8080/",
          "height": 0
        },
        "id": "5OF2Q6bSUcdK",
        "outputId": "b83463a9-0795-471a-ffa4-f4692d4b6440"
      },
      "execution_count": 197,
      "outputs": [
        {
          "output_type": "display_data",
          "data": {
            "text/plain": [
              "<Figure size 1152x432 with 1 Axes>"
            ],
            "image/png": "[encoded data removed]"
          },
          "metadata": {
            "needs_background": "light"
          }
        }
      ]
    },
    {
      "cell_type": "markdown",
      "source": [
        "North Indian is the most popular cuisine by availability, followed by Chinese."
      ],
      "metadata": {
        "id": "jmZBTtc1mIWf"
      }
    },
    {
      "cell_type": "markdown",
      "source": [
        "## Distribution of Ratings"
      ],
      "metadata": {
        "id": "DbjK0iLGXU-p"
      }
    },
    {
      "cell_type": "markdown",
      "source": [
        "Let's create a histogram to check the distribution of ratings for all restaurants."
      ],
      "metadata": {
        "id": "E9OpiYoYXmko"
      }
    },
    {
      "cell_type": "code",
      "source": [
        "# defining a function to generate histogram of a feature in a dataframe\n",
        "def plot_histogram_of_a_feature(dataframe, feature):\n",
        "  \"\"\"\n",
        "  Plots a histogram with dataframe[feature]\n",
        "  \"\"\"\n",
        "  plt.figure(figsize=(8, 6))\n",
        "  plt.hist(dataframe[feature], bins=range(1, int(dataframe[feature].max()) + 2))\n",
        "  plt.show()"
      ],
      "metadata": {
        "id": "oo7-tRR0Xl7W"
      },
      "execution_count": 198,
      "outputs": []
    },
    {
      "cell_type": "code",
      "source": [
        "# generating a histogram to display the distribution of values in Rating\n",
        "plot_histogram_of_a_feature(review_work_df, 'Rating')"
      ],
      "metadata": {
        "colab": {
          "base_uri": "https://localhost:8080/",
          "height": 0
        },
        "id": "tKWrkqjeYoQw",
        "outputId": "36417ec9-9e9b-49cc-80d6-010ac66fefb9"
      },
      "execution_count": 199,
      "outputs": [
        {
          "output_type": "display_data",
          "data": {
            "text/plain": [
              "<Figure size 576x432 with 1 Axes>"
            ],
            "image/png": "[encoded data removed]"
          },
          "metadata": {
            "needs_background": "light"
          }
        }
      ]
    },
    {
      "cell_type": "markdown",
      "source": [
        "It is found the the interval between 4 and 5 has the most frequency of Rating."
      ],
      "metadata": {
        "id": "DTGG5545kmqd"
      }
    },
    {
      "cell_type": "markdown",
      "source": [
        "## Most Experienced Reviewer"
      ],
      "metadata": {
        "id": "QoCZPhiMw37b"
      }
    },
    {
      "cell_type": "markdown",
      "source": [
        "Let's find out the 10 reviewers who wrote the most number of reviewers. For that we need to extract the number of reviews and followers from the metadata dictionary. "
      ],
      "metadata": {
        "id": "CYcmaMiCw7Cz"
      }
    },
    {
      "cell_type": "code",
      "source": [
        "# creating a dataframe to store the name and the number of reviews written by the reviewer\n",
        "review_metadata_df = review_work_df.loc[:, ['Reviewer', 'Metadata']]\n",
        "\n",
        "# converting the datatype of Metadata to string before removing duplicate rows\n",
        "# since dictionary is an immutable object, it cannot be hashed\n",
        "review_metadata_df = review_metadata_df.astype({'Metadata':str})\n",
        "\n",
        "# dropping duplicate rows to metadata of unique reviewers\n",
        "review_metadata_df.drop_duplicates(inplace=True)\n",
        "\n",
        "# converting the datatype of Metadata back to dictionary\n",
        "review_metadata_df['Metadata'] = review_metadata_df['Metadata'].apply(lambda x : eval(x))\n",
        "\n",
        "# creating separate features for Reviews and Followers in Metadata\n",
        "review_metadata_df['Reviews'] = review_metadata_df['Metadata'].apply(lambda x : x['Reviews'])\n",
        "review_metadata_df['Followers'] = review_metadata_df['Metadata'].apply(lambda x : x['Followers'])\n",
        "\n",
        "# dropping Metadata as it become redundant\n",
        "review_metadata_df.drop('Metadata', inplace=True, axis=1)\n",
        "\n",
        "# exploring the head of the dataframe\n",
        "review_metadata_df.head(3)"
      ],
      "metadata": {
        "colab": {
          "base_uri": "https://localhost:8080/",
          "height": 143
        },
        "id": "P7t2YQEFxZdE",
        "outputId": "f414c717-9841-4e9d-8be9-155e3891441e"
      },
      "execution_count": 200,
      "outputs": [
        {
          "output_type": "execute_result",
          "data": {
            "text/plain": [
              "               Reviewer  Reviews  Followers\n",
              "0     Rusha Chakraborty        1          2\n",
              "1  Anusha Tirumalaneedi        3          2\n",
              "2       Ashok Shekhawat        2          3"
            ],
            "text/html": [
              "\n",
              "  <div id=\"df-4c2b3156-d2ba-4293-b6ec-4dcb7317ceb1\">\n",
              "    <div class=\"colab-df-container\">\n",
              "      <div>\n",
              "<style scoped>\n",
              "    .dataframe tbody tr th:only-of-type {\n",
              "        vertical-align: middle;\n",
              "    }\n",
              "\n",
              "    .dataframe tbody tr th {\n",
              "        vertical-align: top;\n",
              "    }\n",
              "\n",
              "    .dataframe thead th {\n",
              "        text-align: right;\n",
              "    }\n",
              "</style>\n",
              "<table border=\"1\" class=\"dataframe\">\n",
              "  <thead>\n",
              "    <tr style=\"text-align: right;\">\n",
              "      <th></th>\n",
              "      <th>Reviewer</th>\n",
              "      <th>Reviews</th>\n",
              "      <th>Followers</th>\n",
              "    </tr>\n",
              "  </thead>\n",
              "  <tbody>\n",
              "    <tr>\n",
              "      <th>0</th>\n",
              "      <td>Rusha Chakraborty</td>\n",
              "      <td>1</td>\n",
              "      <td>2</td>\n",
              "    </tr>\n",
              "    <tr>\n",
              "      <th>1</th>\n",
              "      <td>Anusha Tirumalaneedi</td>\n",
              "      <td>3</td>\n",
              "      <td>2</td>\n",
              "    </tr>\n",
              "    <tr>\n",
              "      <th>2</th>\n",
              "      <td>Ashok Shekhawat</td>\n",
              "      <td>2</td>\n",
              "      <td>3</td>\n",
              "    </tr>\n",
              "  </tbody>\n",
              "</table>\n",
              "</div>\n",
              "      <button class=\"colab-df-convert\" onclick=\"convertToInteractive('df-4c2b3156-d2ba-4293-b6ec-4dcb7317ceb1')\"\n",
              "              title=\"Convert this dataframe to an interactive table.\"\n",
              "              style=\"display:none;\">\n",
              "        \n",
              "  <svg xmlns=\"http://www.w3.org/2000/svg\" height=\"24px\"viewBox=\"0 0 24 24\"\n",
              "       width=\"24px\">\n",
              "    <path d=\"M0 0h24v24H0V0z\" fill=\"none\"/>\n",
              "    <path d=\"M18.56 5.44l.94 2.06.94-2.06 2.06-.94-2.06-.94-.94-2.06-.94 2.06-2.06.94zm-11 1L8.5 8.5l.94-2.06 2.06-.94-2.06-.94L8.5 2.5l-.94 2.06-2.06.94zm10 10l.94 2.06.94-2.06 2.06-.94-2.06-.94-.94-2.06-.94 2.06-2.06.94z\"/><path d=\"M17.41 7.96l-1.37-1.37c-.4-.4-.92-.59-1.43-.59-.52 0-1.04.2-1.43.59L10.3 9.45l-7.72 7.72c-.78.78-.78 2.05 0 2.83L4 21.41c.39.39.9.59 1.41.59.51 0 1.02-.2 1.41-.59l7.78-7.78 2.81-2.81c.8-.78.8-2.07 0-2.86zM5.41 20L4 18.59l7.72-7.72 1.47 1.35L5.41 20z\"/>\n",
              "  </svg>\n",
              "      </button>\n",
              "      \n",
              "  <style>\n",
              "    .colab-df-container {\n",
              "      display:flex;\n",
              "      flex-wrap:wrap;\n",
              "      gap: 12px;\n",
              "    }\n",
              "\n",
              "    .colab-df-convert {\n",
              "      background-color: #E8F0FE;\n",
              "      border: none;\n",
              "      border-radius: 50%;\n",
              "      cursor: pointer;\n",
              "      display: none;\n",
              "      fill: #1967D2;\n",
              "      height: 32px;\n",
              "      padding: 0 0 0 0;\n",
              "      width: 32px;\n",
              "    }\n",
              "\n",
              "    .colab-df-convert:hover {\n",
              "      background-color: #E2EBFA;\n",
              "      box-shadow: 0px 1px 2px rgba(60, 64, 67, 0.3), 0px 1px 3px 1px rgba(60, 64, 67, 0.15);\n",
              "      fill: #174EA6;\n",
              "    }\n",
              "\n",
              "    [theme=dark] .colab-df-convert {\n",
              "      background-color: #3B4455;\n",
              "      fill: #D2E3FC;\n",
              "    }\n",
              "\n",
              "    [theme=dark] .colab-df-convert:hover {\n",
              "      background-color: #434B5C;\n",
              "      box-shadow: 0px 1px 3px 1px rgba(0, 0, 0, 0.15);\n",
              "      filter: drop-shadow(0px 1px 2px rgba(0, 0, 0, 0.3));\n",
              "      fill: #FFFFFF;\n",
              "    }\n",
              "  </style>\n",
              "\n",
              "      <script>\n",
              "        const buttonEl =\n",
              "          document.querySelector('#df-4c2b3156-d2ba-4293-b6ec-4dcb7317ceb1 button.colab-df-convert');\n",
              "        buttonEl.style.display =\n",
              "          google.colab.kernel.accessAllowed ? 'block' : 'none';\n",
              "\n",
              "        async function convertToInteractive(key) {\n",
              "          const element = document.querySelector('#df-4c2b3156-d2ba-4293-b6ec-4dcb7317ceb1');\n",
              "          const dataTable =\n",
              "            await google.colab.kernel.invokeFunction('convertToInteractive',\n",
              "                                                     [key], {});\n",
              "          if (!dataTable) return;\n",
              "\n",
              "          const docLinkHtml = 'Like what you see? Visit the ' +\n",
              "            '<a target=\"_blank\" href=https://colab.research.google.com/notebooks/data_table.ipynb>data table notebook</a>'\n",
              "            + ' to learn more about interactive tables.';\n",
              "          element.innerHTML = '';\n",
              "          dataTable['output_type'] = 'display_data';\n",
              "          await google.colab.output.renderOutput(dataTable, element);\n",
              "          const docLink = document.createElement('div');\n",
              "          docLink.innerHTML = docLinkHtml;\n",
              "          element.appendChild(docLink);\n",
              "        }\n",
              "      </script>\n",
              "    </div>\n",
              "  </div>\n",
              "  "
            ]
          },
          "metadata": {},
          "execution_count": 200
        }
      ]
    },
    {
      "cell_type": "markdown",
      "source": [
        "Now that we have extracted the number of reviews and follwers from Metadata, let's plot the graph."
      ],
      "metadata": {
        "id": "ixtfB6bx_tgB"
      }
    },
    {
      "cell_type": "code",
      "source": [
        "# plotting a vertical bar graph to display the reviewers who wrote the most number of reviews\n",
        "plot_vertical_bar_graph(review_metadata_df.sort_values('Reviews', ascending=False).head(10), 'Reviewer', 'Reviews')"
      ],
      "metadata": {
        "colab": {
          "base_uri": "https://localhost:8080/",
          "height": 588
        },
        "id": "jwnDJyFVAAR_",
        "outputId": "1cb512b5-ed3f-4e84-83ab-24c38dc68bec"
      },
      "execution_count": 201,
      "outputs": [
        {
          "output_type": "display_data",
          "data": {
            "text/plain": [
              "<Figure size 1152x432 with 1 Axes>"
            ],
            "image/png": "[encoded data removed]"
          },
          "metadata": {
            "needs_background": "light"
          }
        }
      ]
    },
    {
      "cell_type": "markdown",
      "source": [
        "Anvesh Chowdary has written the most number of reviews with over 1000 reviews."
      ],
      "metadata": {
        "id": "HCpu47-gCKwL"
      }
    },
    {
      "cell_type": "markdown",
      "source": [
        "## Most Popular Reviewer"
      ],
      "metadata": {
        "id": "X8UWTc3LBphN"
      }
    },
    {
      "cell_type": "markdown",
      "source": [
        "Let's find out the 10 reviewers who has the most number of followers. "
      ],
      "metadata": {
        "id": "_YTlgjSPBphP"
      }
    },
    {
      "cell_type": "code",
      "source": [
        "# plotting a vertical bar graph to display the reviewers who wrote the most number of reviews\n",
        "plot_vertical_bar_graph(review_metadata_df.sort_values('Followers', ascending=False).head(10), 'Reviewer', 'Followers')"
      ],
      "metadata": {
        "colab": {
          "base_uri": "https://localhost:8080/",
          "height": 0
        },
        "id": "BdAbbKWDBphQ",
        "outputId": "164aa0e5-18b6-49ff-ab0e-e5eac8affdd7"
      },
      "execution_count": 202,
      "outputs": [
        {
          "output_type": "display_data",
          "data": {
            "text/plain": [
              "<Figure size 1152x432 with 1 Axes>"
            ],
            "image/png": "[encoded data removed]"
          },
          "metadata": {
            "needs_background": "light"
          }
        }
      ]
    },
    {
      "cell_type": "markdown",
      "source": [
        "Satwinder Singh is the most popular reviewer based on the number of followers."
      ],
      "metadata": {
        "id": "bJisEd_GCkUG"
      }
    },
    {
      "cell_type": "markdown",
      "source": [
        "## Most Reviewed Restaurant"
      ],
      "metadata": {
        "id": "scOA_VGyEq38"
      }
    },
    {
      "cell_type": "markdown",
      "source": [
        "Let's check the 10 restaurants that were reviewed the most number of times."
      ],
      "metadata": {
        "id": "ZhcnU3RYEu8W"
      }
    },
    {
      "cell_type": "code",
      "source": [
        "# creating a dataframe to store the 10 most reviewed restaurants\n",
        "most_reviewed_restaurants_df = pd.DataFrame(review_work_df['Restaurant'].value_counts()).reset_index().head(10)\n",
        "most_reviewed_restaurants_df = most_reviewed_restaurants_df.rename(columns={'index':'Restaurant', 'Restaurant':'Reviews'})"
      ],
      "metadata": {
        "id": "dqxjT_hLE45M"
      },
      "execution_count": 203,
      "outputs": []
    },
    {
      "cell_type": "code",
      "source": [
        "# plotting a vertical bar graph to display the restaurants which was reviewed the most number of times\n",
        "plot_vertical_bar_graph(most_reviewed_restaurants_df, 'Restaurant', 'Reviews')"
      ],
      "metadata": {
        "colab": {
          "base_uri": "https://localhost:8080/",
          "height": 0
        },
        "id": "Zn0kn7OWIaYA",
        "outputId": "6bcfa297-6725-4918-d12d-480b6a9b1f1a"
      },
      "execution_count": 204,
      "outputs": [
        {
          "output_type": "display_data",
          "data": {
            "text/plain": [
              "<Figure size 1152x432 with 1 Axes>"
            ],
            "image/png": "[encoded data removed]"
          },
          "metadata": {
            "needs_background": "light"
          }
        }
      ]
    },
    {
      "cell_type": "markdown",
      "source": [
        "It is observed that all the 10 most reviewed restaurants have the same number of reviews, which is 100. Let's check the distribution of number of reviews."
      ],
      "metadata": {
        "id": "Z_eUl5gjI-zd"
      }
    },
    {
      "cell_type": "code",
      "source": [
        "# defining a function to generate density plot of a feature in a dataframe\n",
        "def plot_density_of_a_feature(dataframe, feature):\n",
        "  \"\"\"\n",
        "  Plots a density plot with dataframe[feature]\n",
        "  \"\"\"\n",
        "  plt.figure(figsize=(8, 6))\n",
        "  sns.distplot(dataframe[feature])\n",
        "  plt.show()"
      ],
      "metadata": {
        "id": "k-48WgbmI-Im"
      },
      "execution_count": 205,
      "outputs": []
    },
    {
      "cell_type": "code",
      "source": [
        "# generating a density plot to display the distribution of values in Rating\n",
        "plot_density_of_a_feature(most_reviewed_restaurants_df, 'Reviews')"
      ],
      "metadata": {
        "colab": {
          "base_uri": "https://localhost:8080/",
          "height": 0
        },
        "id": "jvPAvc0zKCrL",
        "outputId": "b3ae935c-5337-4e68-9243-63cef0adf60a"
      },
      "execution_count": 206,
      "outputs": [
        {
          "output_type": "display_data",
          "data": {
            "text/plain": [
              "<Figure size 576x432 with 1 Axes>"
            ],
            "image/png": "[encoded data removed]"
          },
          "metadata": {
            "needs_background": "light"
          }
        }
      ]
    },
    {
      "cell_type": "markdown",
      "source": [
        "The distribution of the number reviews each restaurant has is negatively skewed with a long tail and a narrow curve."
      ],
      "metadata": {
        "id": "70VQFyWqKX4L"
      }
    },
    {
      "cell_type": "markdown",
      "source": [
        "## Highest Rated Restaurants"
      ],
      "metadata": {
        "id": "-awUsSg_K4Rz"
      }
    },
    {
      "cell_type": "markdown",
      "source": [
        "Let's check the 10 restaurants that have the greatest average rating."
      ],
      "metadata": {
        "id": "PaK66L45LNJp"
      }
    },
    {
      "cell_type": "code",
      "source": [
        "# creating a dataframe to store the 10 highest rated restaurants\n",
        "highest_rated_restaurants_df = pd.DataFrame(review_work_df.groupby('Restaurant').mean()['Rating']).reset_index()\n",
        "highest_rated_restaurants_df = highest_rated_restaurants_df.sort_values('Rating', ascending=False).head(10)"
      ],
      "metadata": {
        "id": "ELv0yWpcTTw4"
      },
      "execution_count": 207,
      "outputs": []
    },
    {
      "cell_type": "code",
      "source": [
        "# plotting a vertical bar graph to display the restaurants which has the greatest average rating\n",
        "plot_vertical_bar_graph(highest_rated_restaurants_df, 'Restaurant', 'Rating')"
      ],
      "metadata": {
        "colab": {
          "base_uri": "https://localhost:8080/",
          "height": 0
        },
        "id": "6MlhHIEiSH7G",
        "outputId": "3b0e4ffe-9a57-4cc8-b190-8f78f5423590"
      },
      "execution_count": 208,
      "outputs": [
        {
          "output_type": "display_data",
          "data": {
            "text/plain": [
              "<Figure size 1152x432 with 1 Axes>"
            ],
            "image/png": "[encoded data removed]"
          },
          "metadata": {
            "needs_background": "light"
          }
        }
      ]
    },
    {
      "cell_type": "markdown",
      "source": [
        "AB's - Absolute Barbecues has the highest average rating followed by B-Dubs\tand 3B's - Buddies, Bar & Barbecue."
      ],
      "metadata": {
        "id": "5SYAADuwVO6o"
      }
    },
    {
      "cell_type": "markdown",
      "source": [
        "## Review Wordcloud"
      ],
      "metadata": {
        "id": "xmUXtgJAXDKQ"
      }
    },
    {
      "cell_type": "markdown",
      "source": [
        "Let's create a wordcloud to check the frequency of different words in the reviews. First let's carry out tokenization and stopword removal of the text data."
      ],
      "metadata": {
        "id": "HZL3JOULXH94"
      }
    },
    {
      "cell_type": "code",
      "source": [
        "# importing libraries for text processing\n",
        "import re\n",
        "import nltk\n",
        "nltk.download('stopwords')\n",
        "from nltk.corpus import stopwords"
      ],
      "metadata": {
        "colab": {
          "base_uri": "https://localhost:8080/"
        },
        "id": "n34Bm-l-du-x",
        "outputId": "7ac74368-50d1-479a-97d9-e07ebef0f4fb"
      },
      "execution_count": 209,
      "outputs": [
        {
          "output_type": "stream",
          "name": "stderr",
          "text": [
            "[nltk_data] Downloading package stopwords to /root/nltk_data...\n",
            "[nltk_data]   Package stopwords is already up-to-date!\n"
          ]
        }
      ]
    },
    {
      "cell_type": "code",
      "source": [
        "# defining a function for text tokenization and stopword removal\n",
        "def tokenize(text):\n",
        "  \"\"\"\n",
        "  Function to carry out tokenization and stopword removal of text data\n",
        "  \"\"\"\n",
        "\n",
        "  # converting from object to string\n",
        "  mod_text = str(text)\n",
        "\n",
        "  # removing punctuations\n",
        "  mod_text = re.sub('[^a-zA-Z]', ' ', mod_text)\n",
        "\n",
        "  # converting all characters to lower case and splitting into words\n",
        "  mod_text = mod_text.lower().split()\n",
        "\n",
        "  # removing stopwords\n",
        "  mod_text = [word for word in mod_text if word not in stopwords.words('english')]\n",
        "\n",
        "  return mod_text"
      ],
      "metadata": {
        "id": "Qy_8OZ57Xd42"
      },
      "execution_count": 210,
      "outputs": []
    },
    {
      "cell_type": "code",
      "source": [
        "# carrying out tokenization and stopword removal of text data\n",
        "review_work_df['Tokenized_Review'] = review_work_df['Review'].apply(lambda x : tokenize(x))"
      ],
      "metadata": {
        "id": "Hop1TaCkh2PV"
      },
      "execution_count": 211,
      "outputs": []
    },
    {
      "cell_type": "markdown",
      "source": [
        "Now that we have tokenized the review data and removed stop words, let's generate a word cloud of the review."
      ],
      "metadata": {
        "id": "Ca2VI7MtjpUU"
      }
    },
    {
      "cell_type": "code",
      "source": [
        "# def"
      ],
      "metadata": {
        "id": "va6GP0thnSHF"
      },
      "execution_count": 212,
      "outputs": []
    },
    {
      "cell_type": "code",
      "source": [
        "# collecting all words from the reviews to generate the wordcloud\n",
        "cloud_words = ''\n",
        "for words in review_work_df.Tokenized_Review:\n",
        "  cloud_words += ' '.join(words)\n",
        "\n",
        "# importing library for wordcloud\n",
        "from wordcloud import WordCloud\n",
        "\n",
        "# generating wordcloud image of reviews\n",
        "wordcloud = WordCloud(width=800, height=800, background_color='white', min_font_size=5).generate(cloud_words)\n",
        "plt.figure(figsize=(8, 8), facecolor=None)\n",
        "plt.axis('off')\n",
        "plt.imshow(wordcloud)\n",
        "plt.show()"
      ],
      "metadata": {
        "colab": {
          "base_uri": "https://localhost:8080/",
          "height": 466
        },
        "id": "BKTqEyYSkAu2",
        "outputId": "fae39db2-f865-4a76-c8ff-f18d140689c0"
      },
      "execution_count": 213,
      "outputs": [
        {
          "output_type": "display_data",
          "data": {
            "text/plain": [
              "<Figure size 576x576 with 1 Axes>"
            ],
            "image/png": "[encoded data removed]"
          },
          "metadata": {
            "needs_background": "light"
          }
        }
      ]
    },
    {
      "cell_type": "markdown",
      "source": [
        "Most frequent words used by the reviewers are place, good, food and taste."
      ],
      "metadata": {
        "id": "vCjn5DDrl9sL"
      }
    },
    {
      "cell_type": "markdown",
      "source": [
        "## Cost vs Rating"
      ],
      "metadata": {
        "id": "aumOGrYwmMjJ"
      }
    },
    {
      "cell_type": "code",
      "source": [
        "meta_work_df.head(2)"
      ],
      "metadata": {
        "colab": {
          "base_uri": "https://localhost:8080/",
          "height": 0
        },
        "id": "DU-6RIFNis3B",
        "outputId": "25b37750-229b-475c-a094-9e6322918417"
      },
      "execution_count": 214,
      "outputs": [
        {
          "output_type": "execute_result",
          "data": {
            "text/plain": [
              "              Name                                              Links  Cost  \\\n",
              "0  Beyond Flavours  https://www.zomato.com/hyderabad/beyond-flavou...   800   \n",
              "1         Paradise  https://www.zomato.com/hyderabad/paradise-gach...   800   \n",
              "\n",
              "                                            Cuisines  \\\n",
              "0  [Chinese, Continental, Kebab, European, South ...   \n",
              "1                   [Biryani, North Indian, Chinese]   \n",
              "\n",
              "                                         Timings  \n",
              "0  12noon to 3:30pm, 6:30pm to 11:30pm (Mon-Sun)  \n",
              "1                                 11 AM to 11 PM  "
            ],
            "text/html": [
              "\n",
              "  <div id=\"df-7d7bbeaa-c453-4e4c-9651-6740840f6b7b\">\n",
              "    <div class=\"colab-df-container\">\n",
              "      <div>\n",
              "<style scoped>\n",
              "    .dataframe tbody tr th:only-of-type {\n",
              "        vertical-align: middle;\n",
              "    }\n",
              "\n",
              "    .dataframe tbody tr th {\n",
              "        vertical-align: top;\n",
              "    }\n",
              "\n",
              "    .dataframe thead th {\n",
              "        text-align: right;\n",
              "    }\n",
              "</style>\n",
              "<table border=\"1\" class=\"dataframe\">\n",
              "  <thead>\n",
              "    <tr style=\"text-align: right;\">\n",
              "      <th></th>\n",
              "      <th>Name</th>\n",
              "      <th>Links</th>\n",
              "      <th>Cost</th>\n",
              "      <th>Cuisines</th>\n",
              "      <th>Timings</th>\n",
              "    </tr>\n",
              "  </thead>\n",
              "  <tbody>\n",
              "    <tr>\n",
              "      <th>0</th>\n",
              "      <td>Beyond Flavours</td>\n",
              "      <td>https://www.zomato.com/hyderabad/beyond-flavou...</td>\n",
              "      <td>800</td>\n",
              "      <td>[Chinese, Continental, Kebab, European, South ...</td>\n",
              "      <td>12noon to 3:30pm, 6:30pm to 11:30pm (Mon-Sun)</td>\n",
              "    </tr>\n",
              "    <tr>\n",
              "      <th>1</th>\n",
              "      <td>Paradise</td>\n",
              "      <td>https://www.zomato.com/hyderabad/paradise-gach...</td>\n",
              "      <td>800</td>\n",
              "      <td>[Biryani, North Indian, Chinese]</td>\n",
              "      <td>11 AM to 11 PM</td>\n",
              "    </tr>\n",
              "  </tbody>\n",
              "</table>\n",
              "</div>\n",
              "      <button class=\"colab-df-convert\" onclick=\"convertToInteractive('df-7d7bbeaa-c453-4e4c-9651-6740840f6b7b')\"\n",
              "              title=\"Convert this dataframe to an interactive table.\"\n",
              "              style=\"display:none;\">\n",
              "        \n",
              "  <svg xmlns=\"http://www.w3.org/2000/svg\" height=\"24px\"viewBox=\"0 0 24 24\"\n",
              "       width=\"24px\">\n",
              "    <path d=\"M0 0h24v24H0V0z\" fill=\"none\"/>\n",
              "    <path d=\"M18.56 5.44l.94 2.06.94-2.06 2.06-.94-2.06-.94-.94-2.06-.94 2.06-2.06.94zm-11 1L8.5 8.5l.94-2.06 2.06-.94-2.06-.94L8.5 2.5l-.94 2.06-2.06.94zm10 10l.94 2.06.94-2.06 2.06-.94-2.06-.94-.94-2.06-.94 2.06-2.06.94z\"/><path d=\"M17.41 7.96l-1.37-1.37c-.4-.4-.92-.59-1.43-.59-.52 0-1.04.2-1.43.59L10.3 9.45l-7.72 7.72c-.78.78-.78 2.05 0 2.83L4 21.41c.39.39.9.59 1.41.59.51 0 1.02-.2 1.41-.59l7.78-7.78 2.81-2.81c.8-.78.8-2.07 0-2.86zM5.41 20L4 18.59l7.72-7.72 1.47 1.35L5.41 20z\"/>\n",
              "  </svg>\n",
              "      </button>\n",
              "      \n",
              "  <style>\n",
              "    .colab-df-container {\n",
              "      display:flex;\n",
              "      flex-wrap:wrap;\n",
              "      gap: 12px;\n",
              "    }\n",
              "\n",
              "    .colab-df-convert {\n",
              "      background-color: #E8F0FE;\n",
              "      border: none;\n",
              "      border-radius: 50%;\n",
              "      cursor: pointer;\n",
              "      display: none;\n",
              "      fill: #1967D2;\n",
              "      height: 32px;\n",
              "      padding: 0 0 0 0;\n",
              "      width: 32px;\n",
              "    }\n",
              "\n",
              "    .colab-df-convert:hover {\n",
              "      background-color: #E2EBFA;\n",
              "      box-shadow: 0px 1px 2px rgba(60, 64, 67, 0.3), 0px 1px 3px 1px rgba(60, 64, 67, 0.15);\n",
              "      fill: #174EA6;\n",
              "    }\n",
              "\n",
              "    [theme=dark] .colab-df-convert {\n",
              "      background-color: #3B4455;\n",
              "      fill: #D2E3FC;\n",
              "    }\n",
              "\n",
              "    [theme=dark] .colab-df-convert:hover {\n",
              "      background-color: #434B5C;\n",
              "      box-shadow: 0px 1px 3px 1px rgba(0, 0, 0, 0.15);\n",
              "      filter: drop-shadow(0px 1px 2px rgba(0, 0, 0, 0.3));\n",
              "      fill: #FFFFFF;\n",
              "    }\n",
              "  </style>\n",
              "\n",
              "      <script>\n",
              "        const buttonEl =\n",
              "          document.querySelector('#df-7d7bbeaa-c453-4e4c-9651-6740840f6b7b button.colab-df-convert');\n",
              "        buttonEl.style.display =\n",
              "          google.colab.kernel.accessAllowed ? 'block' : 'none';\n",
              "\n",
              "        async function convertToInteractive(key) {\n",
              "          const element = document.querySelector('#df-7d7bbeaa-c453-4e4c-9651-6740840f6b7b');\n",
              "          const dataTable =\n",
              "            await google.colab.kernel.invokeFunction('convertToInteractive',\n",
              "                                                     [key], {});\n",
              "          if (!dataTable) return;\n",
              "\n",
              "          const docLinkHtml = 'Like what you see? Visit the ' +\n",
              "            '<a target=\"_blank\" href=https://colab.research.google.com/notebooks/data_table.ipynb>data table notebook</a>'\n",
              "            + ' to learn more about interactive tables.';\n",
              "          element.innerHTML = '';\n",
              "          dataTable['output_type'] = 'display_data';\n",
              "          await google.colab.output.renderOutput(dataTable, element);\n",
              "          const docLink = document.createElement('div');\n",
              "          docLink.innerHTML = docLinkHtml;\n",
              "          element.appendChild(docLink);\n",
              "        }\n",
              "      </script>\n",
              "    </div>\n",
              "  </div>\n",
              "  "
            ]
          },
          "metadata": {},
          "execution_count": 214
        }
      ]
    },
    {
      "cell_type": "code",
      "source": [
        "review_work_df.head(2)"
      ],
      "metadata": {
        "colab": {
          "base_uri": "https://localhost:8080/",
          "height": 0
        },
        "id": "GMxmL-oriyFr",
        "outputId": "52889228-157d-4f62-eea6-7d6fbbd62458"
      },
      "execution_count": 215,
      "outputs": [
        {
          "output_type": "execute_result",
          "data": {
            "text/plain": [
              "        Restaurant              Reviewer  \\\n",
              "0  Beyond Flavours     Rusha Chakraborty   \n",
              "1  Beyond Flavours  Anusha Tirumalaneedi   \n",
              "\n",
              "                                              Review  Rating  \\\n",
              "0  The ambience was good, food was quite good . h...     5.0   \n",
              "1  Ambience is too good for a pleasant evening. S...     5.0   \n",
              "\n",
              "                         Metadata                Time  Pictures  \\\n",
              "0  {'Reviews': 1, 'Followers': 2} 2019-05-25 15:54:00         0   \n",
              "1  {'Reviews': 3, 'Followers': 2} 2019-05-25 14:20:00         0   \n",
              "\n",
              "                                    Tokenized_Review  \n",
              "0  [ambience, good, food, quite, good, saturday, ...  \n",
              "1  [ambience, good, pleasant, evening, service, p...  "
            ],
            "text/html": [
              "\n",
              "  <div id=\"df-c11acde7-879a-49f7-a8ca-749f60b19f11\">\n",
              "    <div class=\"colab-df-container\">\n",
              "      <div>\n",
              "<style scoped>\n",
              "    .dataframe tbody tr th:only-of-type {\n",
              "        vertical-align: middle;\n",
              "    }\n",
              "\n",
              "    .dataframe tbody tr th {\n",
              "        vertical-align: top;\n",
              "    }\n",
              "\n",
              "    .dataframe thead th {\n",
              "        text-align: right;\n",
              "    }\n",
              "</style>\n",
              "<table border=\"1\" class=\"dataframe\">\n",
              "  <thead>\n",
              "    <tr style=\"text-align: right;\">\n",
              "      <th></th>\n",
              "      <th>Restaurant</th>\n",
              "      <th>Reviewer</th>\n",
              "      <th>Review</th>\n",
              "      <th>Rating</th>\n",
              "      <th>Metadata</th>\n",
              "      <th>Time</th>\n",
              "      <th>Pictures</th>\n",
              "      <th>Tokenized_Review</th>\n",
              "    </tr>\n",
              "  </thead>\n",
              "  <tbody>\n",
              "    <tr>\n",
              "      <th>0</th>\n",
              "      <td>Beyond Flavours</td>\n",
              "      <td>Rusha Chakraborty</td>\n",
              "      <td>The ambience was good, food was quite good . h...</td>\n",
              "      <td>5.0</td>\n",
              "      <td>{'Reviews': 1, 'Followers': 2}</td>\n",
              "      <td>2019-05-25 15:54:00</td>\n",
              "      <td>0</td>\n",
              "      <td>[ambience, good, food, quite, good, saturday, ...</td>\n",
              "    </tr>\n",
              "    <tr>\n",
              "      <th>1</th>\n",
              "      <td>Beyond Flavours</td>\n",
              "      <td>Anusha Tirumalaneedi</td>\n",
              "      <td>Ambience is too good for a pleasant evening. S...</td>\n",
              "      <td>5.0</td>\n",
              "      <td>{'Reviews': 3, 'Followers': 2}</td>\n",
              "      <td>2019-05-25 14:20:00</td>\n",
              "      <td>0</td>\n",
              "      <td>[ambience, good, pleasant, evening, service, p...</td>\n",
              "    </tr>\n",
              "  </tbody>\n",
              "</table>\n",
              "</div>\n",
              "      <button class=\"colab-df-convert\" onclick=\"convertToInteractive('df-c11acde7-879a-49f7-a8ca-749f60b19f11')\"\n",
              "              title=\"Convert this dataframe to an interactive table.\"\n",
              "              style=\"display:none;\">\n",
              "        \n",
              "  <svg xmlns=\"http://www.w3.org/2000/svg\" height=\"24px\"viewBox=\"0 0 24 24\"\n",
              "       width=\"24px\">\n",
              "    <path d=\"M0 0h24v24H0V0z\" fill=\"none\"/>\n",
              "    <path d=\"M18.56 5.44l.94 2.06.94-2.06 2.06-.94-2.06-.94-.94-2.06-.94 2.06-2.06.94zm-11 1L8.5 8.5l.94-2.06 2.06-.94-2.06-.94L8.5 2.5l-.94 2.06-2.06.94zm10 10l.94 2.06.94-2.06 2.06-.94-2.06-.94-.94-2.06-.94 2.06-2.06.94z\"/><path d=\"M17.41 7.96l-1.37-1.37c-.4-.4-.92-.59-1.43-.59-.52 0-1.04.2-1.43.59L10.3 9.45l-7.72 7.72c-.78.78-.78 2.05 0 2.83L4 21.41c.39.39.9.59 1.41.59.51 0 1.02-.2 1.41-.59l7.78-7.78 2.81-2.81c.8-.78.8-2.07 0-2.86zM5.41 20L4 18.59l7.72-7.72 1.47 1.35L5.41 20z\"/>\n",
              "  </svg>\n",
              "      </button>\n",
              "      \n",
              "  <style>\n",
              "    .colab-df-container {\n",
              "      display:flex;\n",
              "      flex-wrap:wrap;\n",
              "      gap: 12px;\n",
              "    }\n",
              "\n",
              "    .colab-df-convert {\n",
              "      background-color: #E8F0FE;\n",
              "      border: none;\n",
              "      border-radius: 50%;\n",
              "      cursor: pointer;\n",
              "      display: none;\n",
              "      fill: #1967D2;\n",
              "      height: 32px;\n",
              "      padding: 0 0 0 0;\n",
              "      width: 32px;\n",
              "    }\n",
              "\n",
              "    .colab-df-convert:hover {\n",
              "      background-color: #E2EBFA;\n",
              "      box-shadow: 0px 1px 2px rgba(60, 64, 67, 0.3), 0px 1px 3px 1px rgba(60, 64, 67, 0.15);\n",
              "      fill: #174EA6;\n",
              "    }\n",
              "\n",
              "    [theme=dark] .colab-df-convert {\n",
              "      background-color: #3B4455;\n",
              "      fill: #D2E3FC;\n",
              "    }\n",
              "\n",
              "    [theme=dark] .colab-df-convert:hover {\n",
              "      background-color: #434B5C;\n",
              "      box-shadow: 0px 1px 3px 1px rgba(0, 0, 0, 0.15);\n",
              "      filter: drop-shadow(0px 1px 2px rgba(0, 0, 0, 0.3));\n",
              "      fill: #FFFFFF;\n",
              "    }\n",
              "  </style>\n",
              "\n",
              "      <script>\n",
              "        const buttonEl =\n",
              "          document.querySelector('#df-c11acde7-879a-49f7-a8ca-749f60b19f11 button.colab-df-convert');\n",
              "        buttonEl.style.display =\n",
              "          google.colab.kernel.accessAllowed ? 'block' : 'none';\n",
              "\n",
              "        async function convertToInteractive(key) {\n",
              "          const element = document.querySelector('#df-c11acde7-879a-49f7-a8ca-749f60b19f11');\n",
              "          const dataTable =\n",
              "            await google.colab.kernel.invokeFunction('convertToInteractive',\n",
              "                                                     [key], {});\n",
              "          if (!dataTable) return;\n",
              "\n",
              "          const docLinkHtml = 'Like what you see? Visit the ' +\n",
              "            '<a target=\"_blank\" href=https://colab.research.google.com/notebooks/data_table.ipynb>data table notebook</a>'\n",
              "            + ' to learn more about interactive tables.';\n",
              "          element.innerHTML = '';\n",
              "          dataTable['output_type'] = 'display_data';\n",
              "          await google.colab.output.renderOutput(dataTable, element);\n",
              "          const docLink = document.createElement('div');\n",
              "          docLink.innerHTML = docLinkHtml;\n",
              "          element.appendChild(docLink);\n",
              "        }\n",
              "      </script>\n",
              "    </div>\n",
              "  </div>\n",
              "  "
            ]
          },
          "metadata": {},
          "execution_count": 215
        }
      ]
    },
    {
      "cell_type": "markdown",
      "source": [
        "Let's check the variation of ratings with respect to the cost of food. Lets merge Cost from restaurant metadata with Rating from review dataset on Restaurant Name as common feature."
      ],
      "metadata": {
        "id": "FXcgQfYrmSw6"
      }
    },
    {
      "cell_type": "code",
      "source": [
        "# merging the datasets\n",
        "cost_rating_df = review_work_df.loc[:, ['Restaurant', 'Rating']].merge(right=meta_work_df.loc[:, ['Name','Cost']], left_on='Restaurant', right_on='Name')\n",
        "cost_rating_df.drop(['Restaurant', 'Name'], axis=1, inplace=True)\n",
        "\n",
        "# exploring the head of the dataframe\n",
        "cost_rating_df.head()"
      ],
      "metadata": {
        "colab": {
          "base_uri": "https://localhost:8080/",
          "height": 0
        },
        "outputId": "bf967e4b-7ae9-4221-b300-0ba42f193bc2",
        "id": "YGH6wR2Jqdg_"
      },
      "execution_count": 216,
      "outputs": [
        {
          "output_type": "execute_result",
          "data": {
            "text/plain": [
              "   Rating  Cost\n",
              "0     5.0   800\n",
              "1     5.0   800\n",
              "2     5.0   800\n",
              "3     5.0   800\n",
              "4     5.0   800"
            ],
            "text/html": [
              "\n",
              "  <div id=\"df-dec84d3a-9981-493f-bb2b-f047fc95e07c\">\n",
              "    <div class=\"colab-df-container\">\n",
              "      <div>\n",
              "<style scoped>\n",
              "    .dataframe tbody tr th:only-of-type {\n",
              "        vertical-align: middle;\n",
              "    }\n",
              "\n",
              "    .dataframe tbody tr th {\n",
              "        vertical-align: top;\n",
              "    }\n",
              "\n",
              "    .dataframe thead th {\n",
              "        text-align: right;\n",
              "    }\n",
              "</style>\n",
              "<table border=\"1\" class=\"dataframe\">\n",
              "  <thead>\n",
              "    <tr style=\"text-align: right;\">\n",
              "      <th></th>\n",
              "      <th>Rating</th>\n",
              "      <th>Cost</th>\n",
              "    </tr>\n",
              "  </thead>\n",
              "  <tbody>\n",
              "    <tr>\n",
              "      <th>0</th>\n",
              "      <td>5.0</td>\n",
              "      <td>800</td>\n",
              "    </tr>\n",
              "    <tr>\n",
              "      <th>1</th>\n",
              "      <td>5.0</td>\n",
              "      <td>800</td>\n",
              "    </tr>\n",
              "    <tr>\n",
              "      <th>2</th>\n",
              "      <td>5.0</td>\n",
              "      <td>800</td>\n",
              "    </tr>\n",
              "    <tr>\n",
              "      <th>3</th>\n",
              "      <td>5.0</td>\n",
              "      <td>800</td>\n",
              "    </tr>\n",
              "    <tr>\n",
              "      <th>4</th>\n",
              "      <td>5.0</td>\n",
              "      <td>800</td>\n",
              "    </tr>\n",
              "  </tbody>\n",
              "</table>\n",
              "</div>\n",
              "      <button class=\"colab-df-convert\" onclick=\"convertToInteractive('df-dec84d3a-9981-493f-bb2b-f047fc95e07c')\"\n",
              "              title=\"Convert this dataframe to an interactive table.\"\n",
              "              style=\"display:none;\">\n",
              "        \n",
              "  <svg xmlns=\"http://www.w3.org/2000/svg\" height=\"24px\"viewBox=\"0 0 24 24\"\n",
              "       width=\"24px\">\n",
              "    <path d=\"M0 0h24v24H0V0z\" fill=\"none\"/>\n",
              "    <path d=\"M18.56 5.44l.94 2.06.94-2.06 2.06-.94-2.06-.94-.94-2.06-.94 2.06-2.06.94zm-11 1L8.5 8.5l.94-2.06 2.06-.94-2.06-.94L8.5 2.5l-.94 2.06-2.06.94zm10 10l.94 2.06.94-2.06 2.06-.94-2.06-.94-.94-2.06-.94 2.06-2.06.94z\"/><path d=\"M17.41 7.96l-1.37-1.37c-.4-.4-.92-.59-1.43-.59-.52 0-1.04.2-1.43.59L10.3 9.45l-7.72 7.72c-.78.78-.78 2.05 0 2.83L4 21.41c.39.39.9.59 1.41.59.51 0 1.02-.2 1.41-.59l7.78-7.78 2.81-2.81c.8-.78.8-2.07 0-2.86zM5.41 20L4 18.59l7.72-7.72 1.47 1.35L5.41 20z\"/>\n",
              "  </svg>\n",
              "      </button>\n",
              "      \n",
              "  <style>\n",
              "    .colab-df-container {\n",
              "      display:flex;\n",
              "      flex-wrap:wrap;\n",
              "      gap: 12px;\n",
              "    }\n",
              "\n",
              "    .colab-df-convert {\n",
              "      background-color: #E8F0FE;\n",
              "      border: none;\n",
              "      border-radius: 50%;\n",
              "      cursor: pointer;\n",
              "      display: none;\n",
              "      fill: #1967D2;\n",
              "      height: 32px;\n",
              "      padding: 0 0 0 0;\n",
              "      width: 32px;\n",
              "    }\n",
              "\n",
              "    .colab-df-convert:hover {\n",
              "      background-color: #E2EBFA;\n",
              "      box-shadow: 0px 1px 2px rgba(60, 64, 67, 0.3), 0px 1px 3px 1px rgba(60, 64, 67, 0.15);\n",
              "      fill: #174EA6;\n",
              "    }\n",
              "\n",
              "    [theme=dark] .colab-df-convert {\n",
              "      background-color: #3B4455;\n",
              "      fill: #D2E3FC;\n",
              "    }\n",
              "\n",
              "    [theme=dark] .colab-df-convert:hover {\n",
              "      background-color: #434B5C;\n",
              "      box-shadow: 0px 1px 3px 1px rgba(0, 0, 0, 0.15);\n",
              "      filter: drop-shadow(0px 1px 2px rgba(0, 0, 0, 0.3));\n",
              "      fill: #FFFFFF;\n",
              "    }\n",
              "  </style>\n",
              "\n",
              "      <script>\n",
              "        const buttonEl =\n",
              "          document.querySelector('#df-dec84d3a-9981-493f-bb2b-f047fc95e07c button.colab-df-convert');\n",
              "        buttonEl.style.display =\n",
              "          google.colab.kernel.accessAllowed ? 'block' : 'none';\n",
              "\n",
              "        async function convertToInteractive(key) {\n",
              "          const element = document.querySelector('#df-dec84d3a-9981-493f-bb2b-f047fc95e07c');\n",
              "          const dataTable =\n",
              "            await google.colab.kernel.invokeFunction('convertToInteractive',\n",
              "                                                     [key], {});\n",
              "          if (!dataTable) return;\n",
              "\n",
              "          const docLinkHtml = 'Like what you see? Visit the ' +\n",
              "            '<a target=\"_blank\" href=https://colab.research.google.com/notebooks/data_table.ipynb>data table notebook</a>'\n",
              "            + ' to learn more about interactive tables.';\n",
              "          element.innerHTML = '';\n",
              "          dataTable['output_type'] = 'display_data';\n",
              "          await google.colab.output.renderOutput(dataTable, element);\n",
              "          const docLink = document.createElement('div');\n",
              "          docLink.innerHTML = docLinkHtml;\n",
              "          element.appendChild(docLink);\n",
              "        }\n",
              "      </script>\n",
              "    </div>\n",
              "  </div>\n",
              "  "
            ]
          },
          "metadata": {},
          "execution_count": 216
        }
      ]
    },
    {
      "cell_type": "code",
      "source": [
        "# defining a function to generate a scatter plot\n",
        "def plot_scatter_plot(dataframe, x, y):\n",
        "  \"\"\"\n",
        "  Plots a scatter plot with \n",
        "  dataframe[x] as x-axis data \n",
        "  and dataframe[y] as y-axis data\n",
        "  \"\"\"\n",
        "  plt.figure(figsize=(16, 6))\n",
        "  sns.scatterplot(dataframe[x], dataframe[y])\n",
        "  plt.show()"
      ],
      "metadata": {
        "id": "kU_mOXVpms9l"
      },
      "execution_count": 217,
      "outputs": []
    },
    {
      "cell_type": "code",
      "source": [
        "# generating a scatter plot to display the variation of ratings with respect to cost\n",
        "plot_scatter_plot(cost_rating_df, 'Cost', 'Rating')"
      ],
      "metadata": {
        "colab": {
          "base_uri": "https://localhost:8080/",
          "height": 0
        },
        "id": "IlebwjLurm_j",
        "outputId": "ba91f89c-e6a6-4af1-a5a7-db0b4513cbed"
      },
      "execution_count": 218,
      "outputs": [
        {
          "output_type": "display_data",
          "data": {
            "text/plain": [
              "<Figure size 1152x432 with 1 Axes>"
            ],
            "image/png": "[encoded data removed]"
          },
          "metadata": {
            "needs_background": "light"
          }
        }
      ]
    },
    {
      "cell_type": "markdown",
      "source": [
        "It is observed that there is no relation ship between the rating of restaurants and the cost of food."
      ],
      "metadata": {
        "id": "6jeVS5_asRpg"
      }
    }
  ]
}